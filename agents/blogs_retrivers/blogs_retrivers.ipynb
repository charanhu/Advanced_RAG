{
 "cells": [
  {
   "cell_type": "code",
   "execution_count": 1,
   "metadata": {},
   "outputs": [],
   "source": [
    "from dotenv import load_dotenv\n",
    "load_dotenv()\n",
    "from langchain_google_genai import GoogleGenerativeAI, ChatGoogleGenerativeAI\n",
    "llm = GoogleGenerativeAI(model=\"gemini-pro\")"
   ]
  },
  {
   "cell_type": "code",
   "execution_count": 2,
   "metadata": {},
   "outputs": [],
   "source": [
    "from langchain.document_loaders import WebBaseLoader\n",
    "from langchain.document_loaders import TextLoader\n",
    "from langchain.text_splitter import RecursiveCharacterTextSplitter\n",
    "from langchain.vectorstores import Chroma\n",
    "from langchain.embeddings import GPT4AllEmbeddings\n",
    "from langchain.prompts import PromptTemplate\n",
    "from langchain.chains import LLMChain\n",
    "\n",
    "from langchain.agents import initialize_agent\n",
    "from langchain.agents import Tool\n",
    "\n",
    "from langchain.llms import LlamaCpp\n",
    "from langchain.callbacks.manager import CallbackManager\n",
    "from langchain.callbacks.streaming_stdout import StreamingStdOutCallbackHandler\n",
    "from langchain.document_loaders import PyPDFDirectoryLoader\n",
    "from langchain.document_loaders import PyPDFLoader\n",
    "from langchain.text_splitter import CharacterTextSplitter"
   ]
  },
  {
   "cell_type": "code",
   "execution_count": 3,
   "metadata": {},
   "outputs": [],
   "source": [
    "from langchain.chains.openai_functions import convert_to_openai_function\n",
    "from langchain.utils.openai_functions import convert_pydantic_to_openai_function\n",
    "from langchain.pydantic_v1 import BaseModel, Field, validator"
   ]
  },
  {
   "cell_type": "code",
   "execution_count": 6,
   "metadata": {},
   "outputs": [],
   "source": [
    "from selenium import webdriver\n",
    "from selenium.webdriver.common.keys import Keys\n",
    "import time\n",
    "from selenium.webdriver.common.by import By"
   ]
  },
  {
   "cell_type": "code",
   "execution_count": 7,
   "metadata": {},
   "outputs": [],
   "source": [
    "class BlogPosts(BaseModel):\n",
    "    \"\"\"Provides list of all the relevant blog posts and links based on the user query input.\"\"\"\n",
    "    query: str = Field(description=\"list of key words to search the blogpost for.\")\n",
    "\n",
    "def get_post_names(query):\n",
    "    \"\"\"Provides list of all the relevant blog posts and links based on the user query input.\n",
    "    Output can have more than one post titles.\"\"\"\n",
    "\n",
    "    # striping off unwanted text if any\n",
    "    query = query.replace('search terms', '')\n",
    "    query = query.replace('keywords', '')\n",
    "    query = query.replace(':', '')\n",
    "    query = query.replace(\"'\", '')\n",
    "\n",
    "    posts=[]\n",
    "    driver = webdriver.Chrome() # Update this with your chromedriver path\n",
    "    blog_url = \"https://sandeeprshah.blogspot.com/\"\n",
    "    blog_url = blog_url+\"search?q=\"+query\n",
    "    # Open the blog website in the browser\n",
    "    driver.get(blog_url)\n",
    "\n",
    "    time.sleep(5)  # Wait for 5 seconds to let the page load\n",
    "\n",
    "    # Find all the search results (assuming search results are represented as links)\n",
    "    search_results = driver.find_elements(By.CSS_SELECTOR, 'h3')\n",
    "\n",
    "    # Extract and print the titles of the search results\n",
    "    print(\"Titles and links of blog posts:\")\n",
    "    for result in search_results:\n",
    "        post_title = result.text\n",
    "        post_link = result.find_element(By.CSS_SELECTOR, 'a').get_attribute('href')\n",
    "#         print(f\"Title: {post_title}\")\n",
    "#         print(f\"Link: {post_link}\")\n",
    "#         print()\n",
    "        post_title_link = post_title+\":\"+post_link\n",
    "        posts.append(post_title)\n",
    "\n",
    "    # Close the browser\n",
    "    driver.quit()\n",
    "\n",
    "    return {\"response\": posts}"
   ]
  },
  {
   "cell_type": "code",
   "execution_count": 8,
   "metadata": {},
   "outputs": [],
   "source": [
    "get_post_names_tool = Tool(\n",
    "    name=\"get_posts\",\n",
    "    func=get_post_names,\n",
    "    description=\"Provides list of all the relevant blog posts and the links based on the user query input.\",\n",
    "    args_schema = BlogPosts\n",
    ")"
   ]
  },
  {
   "cell_type": "code",
   "execution_count": 9,
   "metadata": {},
   "outputs": [],
   "source": [
    "class SinglePost(BaseModel):\n",
    "    \"\"\"Given a blog title - find and open the blog in new browser window.\"\"\"\n",
    "    link: str = Field(description=\"link of the blogpost to open in new window\")\n",
    "\n",
    "def open_blog_post_new_window(link):\n",
    "    \"\"\"given link for a blog article - open it in new window\"\"\"\n",
    "\n",
    "    # striping off unwanted text if any\n",
    "    link = link.replace('search terms', '')\n",
    "    link = link.replace(\"'\", '')\n",
    "\n",
    "    posts=[]\n",
    "    driver = webdriver.Chrome() # Update this with your chromedriver path\n",
    "\n",
    "    driver.get(link)\n",
    "\n",
    "    time.sleep(5)  # Wait for 5 seconds to let the page load\n",
    "\n",
    "\n",
    "    return {\"response\": \"Post opened\"}"
   ]
  },
  {
   "cell_type": "code",
   "execution_count": 10,
   "metadata": {},
   "outputs": [],
   "source": [
    "open_blog_post_tool = Tool(\n",
    "    name=\"open_blog_post_new_window\",\n",
    "    func=open_blog_post_new_window,\n",
    "    description=\"given link for a blog article - open it in new window\",\n",
    "    args_schema = SinglePost\n",
    ")"
   ]
  },
  {
   "cell_type": "code",
   "execution_count": 11,
   "metadata": {},
   "outputs": [],
   "source": [
    "tools = [\n",
    "    get_post_names_tool,\n",
    "    open_blog_post_tool\n",
    "]"
   ]
  },
  {
   "cell_type": "code",
   "execution_count": 12,
   "metadata": {},
   "outputs": [],
   "source": [
    "PREFIX = \"<<SYS>> You are smart that selects a function from list of functions based on user queries.\\\n",
    "Run only one function tool at a time or in one query.<</SYS>>\\n\""
   ]
  },
  {
   "cell_type": "code",
   "execution_count": 13,
   "metadata": {},
   "outputs": [
    {
     "name": "stderr",
     "output_type": "stream",
     "text": [
      "/Users/charan/VS_Code/GitHub/Advanced_RAG/venv/lib/python3.11/site-packages/langchain_core/_api/deprecation.py:117: LangChainDeprecationWarning: The function `initialize_agent` was deprecated in LangChain 0.1.0 and will be removed in 0.2.0. Use Use new agent constructor methods like create_react_agent, create_json_agent, create_structured_chat_agent, etc. instead.\n",
      "  warn_deprecated(\n"
     ]
    }
   ],
   "source": [
    "agent = initialize_agent(\n",
    "    tools,\n",
    "    llm,\n",
    "    agent=\"zero-shot-react-description\",\n",
    "    verbose=True,\n",
    "    max_iterations = 4,\n",
    "    agent_kwargs={\n",
    "        'prefix': PREFIX, \n",
    "#         'format_instructions': FORMAT_INSTRUCTIONS,\n",
    "#         'suffix': SUFFIX\n",
    "    }\n",
    ")"
   ]
  },
  {
   "cell_type": "code",
   "execution_count": 14,
   "metadata": {},
   "outputs": [
    {
     "name": "stdout",
     "output_type": "stream",
     "text": [
      "<<SYS>> You are smart that selects a function from list of functions based on user queries.Run only one function tool at a time or in one query.<</SYS>>\n",
      "\n",
      "\n",
      "get_posts: Provides list of all the relevant blog posts and the links based on the user query input.\n",
      "open_blog_post_new_window: given link for a blog article - open it in new window\n",
      "\n",
      "Use the following format:\n",
      "\n",
      "Question: the input question you must answer\n",
      "Thought: you should always think about what to do\n",
      "Action: the action to take, should be one of [get_posts, open_blog_post_new_window]\n",
      "Action Input: the input to the action\n",
      "Observation: the result of the action\n",
      "... (this Thought/Action/Action Input/Observation can repeat N times)\n",
      "Thought: I now know the final answer\n",
      "Final Answer: the final answer to the original input question\n",
      "\n",
      "Begin!\n",
      "\n",
      "Question: {input}\n",
      "Thought:{agent_scratchpad}\n"
     ]
    }
   ],
   "source": [
    "print(agent.agent.llm_chain.prompt.template)"
   ]
  },
  {
   "cell_type": "code",
   "execution_count": 15,
   "metadata": {},
   "outputs": [
    {
     "name": "stderr",
     "output_type": "stream",
     "text": [
      "/Users/charan/VS_Code/GitHub/Advanced_RAG/venv/lib/python3.11/site-packages/langchain_core/_api/deprecation.py:117: LangChainDeprecationWarning: The function `run` was deprecated in LangChain 0.1.0 and will be removed in 0.2.0. Use invoke instead.\n",
      "  warn_deprecated(\n"
     ]
    },
    {
     "name": "stdout",
     "output_type": "stream",
     "text": [
      "\n",
      "\n",
      "\u001b[1m> Entering new AgentExecutor chain...\u001b[0m\n",
      "\u001b[32;1m\u001b[1;3mI should use the get_posts tool to fetch the list of blog posts based on the user query.\n",
      "Action: get_posts\n",
      "Action Input: query='marathon training'\u001b[0mTitles and links of blog posts:\n",
      "\n",
      "Observation: \u001b[36;1m\u001b[1;3m{'response': []}\u001b[0m\n",
      "Thought:\u001b[32;1m\u001b[1;3mThe list of blog posts for the query is empty, so I cannot extract the titles.\n",
      "Final Answer: I am sorry, I cannot provide you with a list of titles for blog posts related to 'marathon training' because there are no posts that match your query.\u001b[0m\n",
      "\n",
      "\u001b[1m> Finished chain.\u001b[0m\n"
     ]
    }
   ],
   "source": [
    "A = agent.run(\"Fetch me titles of blog posts relevant to keywords: 'marathon training'. \\\n",
    "I just want the list of titles.\\\n",
    "DO NOT OPEN ANY LINKS.\")"
   ]
  },
  {
   "cell_type": "code",
   "execution_count": null,
   "metadata": {},
   "outputs": [],
   "source": []
  }
 ],
 "metadata": {
  "kernelspec": {
   "display_name": "venv",
   "language": "python",
   "name": "python3"
  },
  "language_info": {
   "codemirror_mode": {
    "name": "ipython",
    "version": 3
   },
   "file_extension": ".py",
   "mimetype": "text/x-python",
   "name": "python",
   "nbconvert_exporter": "python",
   "pygments_lexer": "ipython3",
   "version": "3.11.7"
  }
 },
 "nbformat": 4,
 "nbformat_minor": 2
}
