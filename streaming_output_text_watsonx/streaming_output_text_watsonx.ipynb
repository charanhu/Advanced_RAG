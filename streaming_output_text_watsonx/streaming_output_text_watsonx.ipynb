{
 "cells": [
  {
   "cell_type": "code",
   "execution_count": 5,
   "metadata": {},
   "outputs": [],
   "source": [
    "from ibm_watson_machine_learning.foundation_models import Model\n",
    "from ibm_watson_machine_learning.metanames import GenTextParamsMetaNames as GenParams\n",
    "from ibm_watson_machine_learning.foundation_models.utils.enums import ModelTypes, DecodingMethods\n",
    "from dotenv import load_dotenv\n",
    "load_dotenv()\n",
    "import os\n",
    "\n",
    "# To display example params enter\n",
    "GenParams().get_example_values()\n",
    "\n",
    "generate_params = {\n",
    "    GenParams.MAX_NEW_TOKENS: 2048,\n",
    "    GenParams.MIN_NEW_TOKENS: 512\n",
    "}\n",
    "\n",
    "model = Model(\n",
    "    model_id=ModelTypes.LLAMA_2_13B_CHAT,\n",
    "    # model_id=\"ibm-mistralai/mixtral-8x7b-instruct-v01-q\",\n",
    "    params=generate_params,\n",
    "    credentials={\n",
    "        \"apikey\": os.getenv(\"GA_API\"),\n",
    "        \"url\": os.getenv(\"GA_URL\")\n",
    "    },\n",
    "    project_id=os.getenv(\"PROJECT_ID\")\n",
    "    )"
   ]
  },
  {
   "cell_type": "code",
   "execution_count": 6,
   "metadata": {},
   "outputs": [
    {
     "name": "stdout",
     "output_type": "stream",
     "text": [
      "\n",
      "Sachin Tendulkar is widely regarded as one of the greatest batsmen in the history of cricket. Born on April 24, 1973, in Mumbai, India, Tendulkar began playing cricket at a young age and quickly rose to prominence as a prodigious talent.\n",
      "\n",
      "Tendulkar made his first-class debut for Mumbai in 1988 at the age of 15, and two years later, he became the youngest player to score a century in a Test match for India, against Pakistan in Karachi. He went on to play in six World Cups, winning the tournament in 2011, and played in 200 Test matches and 462 One-Day Internationals (ODIs) for India, scoring a total of 34,357 runs in international cricket.\n",
      "\n",
      "Tendulkar's achievements on the field are simply staggering. He holds the record for the most runs scored in both Test and ODI cricket, and is the only player to have scored 100 international centuries. He was named the International Cricket Council's (ICC) Cricketer of the Year in 2010, and was awarded the Bharat Ratna, India's highest civilian honor, in 2014.\n",
      "\n",
      "But Tendulkar's impact on Indian cricket and society extends far beyond his on-field achievements. He has been a cultural icon and a symbol of hope and inspiration for millions of Indians, particularly during the country's economic boom in the 1990s and 2000s. His humility, dedication, and commitment to the game have made him a beloved figure in India, and his retirement in 2013 was widely mourned as a national loss.\n",
      "\n",
      "Tendulkar has also been a pioneer in using his platform to give back to society. He has been involved in numerous charitable initiatives, including the Sachin Tendulkar Foundation, which focuses on education and healthcare for underprivileged children. He has also been a vocal advocate for various social causes, including women's empowerment and cancer awareness.\n",
      "\n",
      "In addition to his on-field achievements and philanthropic work, Tendulkar has also made a significant impact on the sport of cricket itself. He has been a trailblazer in terms of technique and style, and his influence can be seen in the game today, particularly in the way that batsmen approach the crease and play shots.\n",
      "\n",
      "Tendulkar's legacy extends beyond cricket as well. He has been an inspiration to countless young athletes and individuals, and his story has been a source of hope and motivation for many. His dedication to his craft and his commitment to giving back to society have made him a role model for millions of people around the world.\n",
      "\n",
      "In conclusion, Sachin Tendulkar is a cricketing legend and a cultural icon who has had a profound impact on Indian cricket and society. His achievements on the field are unparalleled, and his commitment to giving back to society has made him a beloved figure in India and around the world. His legacy will continue to inspire and motivate future generations of athletes and individuals, and his impact on the sport of cricket will be felt for years to come."
     ]
    }
   ],
   "source": [
    "q = \"Write about sachin tendulkar in 500 words.\"\n",
    "generated_response = model.generate_text_stream(prompt=q)\n",
    "\n",
    "for chunk in generated_response:\n",
    "    print(chunk, end='')"
   ]
  },
  {
   "cell_type": "code",
   "execution_count": null,
   "metadata": {},
   "outputs": [],
   "source": []
  }
 ],
 "metadata": {
  "kernelspec": {
   "display_name": "venv",
   "language": "python",
   "name": "python3"
  },
  "language_info": {
   "codemirror_mode": {
    "name": "ipython",
    "version": 3
   },
   "file_extension": ".py",
   "mimetype": "text/x-python",
   "name": "python",
   "nbconvert_exporter": "python",
   "pygments_lexer": "ipython3",
   "version": "3.11.7"
  }
 },
 "nbformat": 4,
 "nbformat_minor": 2
}
