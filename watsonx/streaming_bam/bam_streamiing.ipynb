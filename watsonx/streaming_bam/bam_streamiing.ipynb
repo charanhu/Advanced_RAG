{
 "cells": [
  {
   "cell_type": "code",
   "execution_count": 1,
   "metadata": {},
   "outputs": [],
   "source": [
    "import sys\n",
    "from pprint import pprint\n",
    "\n",
    "from dotenv import load_dotenv\n",
    "\n",
    "from genai.client import Client\n",
    "from genai.credentials import Credentials\n",
    "from genai.schema import (\n",
    "    DecodingMethod,\n",
    "    ModerationHAP,\n",
    "    ModerationParameters,\n",
    "    TextGenerationParameters,\n",
    "    TextGenerationReturnOptions,\n",
    "    TextModeration,\n",
    ")"
   ]
  },
  {
   "cell_type": "code",
   "execution_count": 2,
   "metadata": {},
   "outputs": [
    {
     "data": {
      "text/plain": [
       "True"
      ]
     },
     "execution_count": 2,
     "metadata": {},
     "output_type": "execute_result"
    }
   ],
   "source": [
    "# make sure you have a .env file under genai root with\n",
    "# GENAI_KEY=<your-genai-key>\n",
    "# GENAI_API=<genai-api-endpoint>\n",
    "load_dotenv()"
   ]
  },
  {
   "cell_type": "code",
   "execution_count": 8,
   "metadata": {},
   "outputs": [
    {
     "name": "stdout",
     "output_type": "stream",
     "text": [
      "\n",
      "============================ Generating text stream ============================\n",
      "\n",
      "The gesture of a hand with pinched fingers 🤌 is actually rude in Italy. \n",
      "It's called the \"mano cornuta\" or Italian horn and it means that you are calling someone an idiot, cuckolded man (or woman), etc... It can also be used to ward off bad luck! But if done behind your back then its meaning changes again: this time around people will think about cheating on their partner because they have been caught by surprise while doing something wrong like looking at another person for too long without realizing what was happening between them both before getting noticed themselves which could lead into trouble later down road depending how serious things get from thereon out so better watch yourself when using such gestures especially ones involving hands since these types usually carry strong connotations associated within different cultures worldwide including ours here today known simply as 'the mafia'."
     ]
    }
   ],
   "source": [
    "def heading(text: str) -> str:\n",
    "    \"\"\"Helper function for centering text.\"\"\"\n",
    "    return \"\\n\" + f\" {text} \".center(80, \"=\") + \"\\n\"\n",
    "\n",
    "\n",
    "# Instantiate a model proxy object to send your requests\n",
    "client = Client(credentials=Credentials.from_env())\n",
    "\n",
    "\n",
    "model_id = \"mistralai/mixtral-8x7b-instruct-v0-1\"\n",
    "prompt = \"The gesture of a hand with pinched fingers 🤌 is actually rude in Italy. \"\n",
    "parameters = TextGenerationParameters(\n",
    "    decoding_method=DecodingMethod.SAMPLE,\n",
    "    max_new_tokens=2048,\n",
    "    min_new_tokens=50,\n",
    "    return_options=TextGenerationReturnOptions(generated_tokens=True),\n",
    "    temperature=0.1,\n",
    "    repetition_penalty=1.5,\n",
    "    random_seed=3293482354,\n",
    ")\n",
    "moderations = ModerationParameters(\n",
    "    hap=ModerationHAP(input=False, output=True, send_tokens=True, threshold=0.5),\n",
    "    # possibly add more moderations:\n",
    "    # implicit_hate=ModerationImplicitHate(...),\n",
    "    # stigma=ModerationStigma(...),\n",
    ")\n",
    "hate_speach_in_output: list[TextModeration] = []\n",
    "\n",
    "\n",
    "print(heading(\"Generating text stream\"))\n",
    "\n",
    "print(prompt, end=\"\")\n",
    "for response in client.text.generation.create_stream(\n",
    "    model_id=model_id, input=prompt, parameters=parameters, moderations=moderations\n",
    "):\n",
    "    if not response.results:\n",
    "        hate_speach_in_output.extend(response.moderation.hap)\n",
    "        continue\n",
    "    for result in response.results:\n",
    "        if result.generated_text:\n",
    "            print(result.generated_text, end=\"\")\n",
    "\n",
    "# print()\n",
    "# print(heading(\"Hate speach in output\"), file=sys.stderr)\n",
    "# pprint([hap.model_dump() for hap in hate_speach_in_output], stream=sys.stderr)\n"
   ]
  },
  {
   "cell_type": "code",
   "execution_count": null,
   "metadata": {},
   "outputs": [],
   "source": []
  }
 ],
 "metadata": {
  "kernelspec": {
   "display_name": "venv",
   "language": "python",
   "name": "python3"
  },
  "language_info": {
   "codemirror_mode": {
    "name": "ipython",
    "version": 3
   },
   "file_extension": ".py",
   "mimetype": "text/x-python",
   "name": "python",
   "nbconvert_exporter": "python",
   "pygments_lexer": "ipython3",
   "version": "3.11.7"
  }
 },
 "nbformat": 4,
 "nbformat_minor": 2
}
