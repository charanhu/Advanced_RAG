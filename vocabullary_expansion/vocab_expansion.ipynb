{
 "cells": [
  {
   "cell_type": "code",
   "execution_count": null,
   "metadata": {},
   "outputs": [],
   "source": [
    "from transformers import AutoModelForMaskedLM, AutoTokenizer\n",
    "import re\n",
    "\n",
    "# Load the model\n",
    "model_name = \"Name of your pretrained model to be loded from transformer AutoML\"\n",
    "\n",
    "model = AutoModelForMaskedLM.from_pretrained(model_name)\n",
    "tokenizer = AutoTokenizer.from_pretrained(model_name)\n",
    "\n",
    "# get the current vocabulary\n",
    "vocabulary = tokenizer.get_vocab().keys()\n",
    "\n",
    "# train_sentences is a list of preprocessed text sentences\n",
    "all_words = set(word for sentence in train_sentences for word in sentence.split())\n",
    "\n",
    "allowed_special_characters = \"\"\n",
    "\n",
    "# Regex pattern to match words containing only letters and allowed special characters\n",
    "regex_pattern = r'^[a-zA-Z{}]+$' ## update based on the data\n",
    "\n",
    "filtered_words = [word for word in all_words if re.match(regex_pattern, word)]\n",
    "\n",
    "words_not_in_vocab = (set(filtered_words) - set(vocabulary))\n",
    "\n",
    "## adding new words into vocab and resizing the model embeddings\n",
    "tokenizer.add_tokens(list(words_not_in_vocab))\n",
    "\n",
    "model.resize_token_embeddings(len(tokenizer))"
   ]
  }
 ],
 "metadata": {
  "language_info": {
   "name": "python"
  }
 },
 "nbformat": 4,
 "nbformat_minor": 2
}
