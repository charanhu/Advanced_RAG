{
 "cells": [
  {
   "cell_type": "code",
   "execution_count": 2,
   "metadata": {},
   "outputs": [
    {
     "name": "stderr",
     "output_type": "stream",
     "text": [
      "/Users/charan/VS_Code/GitHub/Advanced_RAG/venv/lib/python3.11/site-packages/langchain_core/_api/deprecation.py:117: LangChainDeprecationWarning: The function `__call__` was deprecated in LangChain 0.1.0 and will be removed in 0.2.0. Use invoke instead.\n",
      "  warn_deprecated(\n"
     ]
    },
    {
     "data": {
      "text/plain": [
       "{'flower': 'sunflower',\n",
       " 'text': '\\n\\nThe sunflower is yellow.\\n\\nBut is it?\\n\\nThe sunfl'}"
      ]
     },
     "execution_count": 2,
     "metadata": {},
     "output_type": "execute_result"
    }
   ],
   "source": [
    "from langchain import PromptTemplate\n",
    "from langchain.chains import LLMChain\n",
    "from ibm_watson_machine_learning.foundation_models import Model\n",
    "from ibm_watson_machine_learning.foundation_models.utils.enums import ModelTypes\n",
    "\n",
    "from ibm_watson_machine_learning.foundation_models import Model\n",
    "from ibm_watson_machine_learning.metanames import GenTextParamsMetaNames as GenParams\n",
    "from ibm_watson_machine_learning.foundation_models.utils.enums import ModelTypes, DecodingMethods\n",
    "from dotenv import load_dotenv\n",
    "load_dotenv()\n",
    "\n",
    "import os\n",
    "\n",
    "# # To display example params enter\n",
    "# GenParams().get_example_values()\n",
    "\n",
    "# generate_params = {\n",
    "#     GenParams.MAX_NEW_TOKENS: 2048,\n",
    "#     GenParams.MIN_NEW_TOKENS: 512\n",
    "# }\n",
    "\n",
    "model = Model(\n",
    "    # model_id=ModelTypes.LLAMA_2_13B_CHAT,\n",
    "    model_id=\"ibm-mistralai/mixtral-8x7b-instruct-v01-q\",\n",
    "    # params=generate_params,\n",
    "    credentials={\n",
    "        \"apikey\": os.getenv(\"GA_API\"),\n",
    "        \"url\": os.getenv(\"GA_URL\")\n",
    "    },\n",
    "    project_id=os.getenv(\"PROJECT_ID\")\n",
    "    )\n",
    "\n",
    "prompt_template = \"What color is the {flower}?\"\n",
    "\n",
    "llm_chain = LLMChain(llm=model.to_langchain(), prompt=PromptTemplate.from_template(prompt_template))\n",
    "llm_chain('sunflower')"
   ]
  },
  {
   "cell_type": "code",
   "execution_count": 3,
   "metadata": {},
   "outputs": [
    {
     "name": "stdout",
     "output_type": "stream",
     "text": [
      "{'token_count': 9, 'tokens': ['<s>', '▁Write', '▁an', '▁ep', 'ig', 'ram', '▁about', '▁the', '▁moon']}\n"
     ]
    }
   ],
   "source": [
    "q = \"Write an epigram about the moon\"\n",
    "tokenized_response = model.tokenize(prompt=q, return_tokens=True)\n",
    "print(tokenized_response[\"result\"])"
   ]
  },
  {
   "cell_type": "code",
   "execution_count": null,
   "metadata": {},
   "outputs": [],
   "source": []
  }
 ],
 "metadata": {
  "kernelspec": {
   "display_name": "venv",
   "language": "python",
   "name": "python3"
  },
  "language_info": {
   "codemirror_mode": {
    "name": "ipython",
    "version": 3
   },
   "file_extension": ".py",
   "mimetype": "text/x-python",
   "name": "python",
   "nbconvert_exporter": "python",
   "pygments_lexer": "ipython3",
   "version": "3.11.7"
  }
 },
 "nbformat": 4,
 "nbformat_minor": 2
}
