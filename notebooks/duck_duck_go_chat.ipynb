{
 "cells": [
  {
   "cell_type": "code",
   "execution_count": null,
   "metadata": {},
   "outputs": [],
   "source": [
    "import os\n",
    "from dotenv import load_dotenv\n",
    "load_dotenv()"
   ]
  },
  {
   "cell_type": "code",
   "execution_count": null,
   "metadata": {},
   "outputs": [],
   "source": [
    "from langchain_community.llms import HuggingFaceHub"
   ]
  },
  {
   "cell_type": "code",
   "execution_count": null,
   "metadata": {},
   "outputs": [],
   "source": [
    "from langchain.chains import LLMChain\n",
    "from langchain.prompts import PromptTemplate"
   ]
  },
  {
   "cell_type": "code",
   "execution_count": null,
   "metadata": {},
   "outputs": [],
   "source": [
    "question = \"Who won the FIFA World Cup in the year 1994? \"\n",
    "\n",
    "template = \"\"\"Question: {question}\n",
    "\n",
    "Answer: Let's think step by step.\"\"\"\n",
    "\n",
    "prompt = PromptTemplate(template=template, input_variables=[\"question\"])"
   ]
  },
  {
   "cell_type": "code",
   "execution_count": null,
   "metadata": {},
   "outputs": [],
   "source": [
    "from langchain_community.llms import HuggingFaceHub\n",
    "\n",
    "llm = HuggingFaceHub(\n",
    "    repo_id=\"mistralai/Mixtral-8x7B-Instruct-v0.1\",\n",
    "    task=\"text-generation\",\n",
    "    model_kwargs={\n",
    "        \"max_new_tokens\": 2048,\n",
    "        \"top_k\": 50,\n",
    "        \"temperature\": 0.01,\n",
    "    },\n",
    ")"
   ]
  },
  {
   "cell_type": "code",
   "execution_count": null,
   "metadata": {},
   "outputs": [],
   "source": [
    "llm(\"hi\")"
   ]
  },
  {
   "cell_type": "code",
   "execution_count": null,
   "metadata": {},
   "outputs": [],
   "source": [
    "\n",
    "\n",
    "from langchain_community.llms import HuggingFaceHub\n",
    "\n",
    "llm = HuggingFaceHub(\n",
    "    repo_id=\"HuggingFaceH4/zephyr-7b-beta\",\n",
    "    task=\"text-generation\",\n",
    "    model_kwargs={\n",
    "        \"max_new_tokens\": 512,\n",
    "        \"top_k\": 30,\n",
    "        \"temperature\": 0.1,\n",
    "        \"repetition_penalty\": 1.03,\n",
    "    },\n",
    ")"
   ]
  },
  {
   "cell_type": "code",
   "execution_count": null,
   "metadata": {},
   "outputs": [],
   "source": [
    "from langchain.schema import (\n",
    "    HumanMessage,\n",
    "    SystemMessage,\n",
    ")\n",
    "from langchain_community.chat_models.huggingface import ChatHuggingFace\n",
    "\n",
    "messages = [\n",
    "    SystemMessage(content=\"You're a helpful assistant\"),\n",
    "    HumanMessage(\n",
    "        content=\"What happens when an unstoppable force meets an immovable object?\"\n",
    "    ),\n",
    "]\n",
    "\n"
   ]
  },
  {
   "cell_type": "code",
   "execution_count": null,
   "metadata": {},
   "outputs": [],
   "source": [
    "chat_model = ChatHuggingFace(llm=llm)"
   ]
  },
  {
   "cell_type": "code",
   "execution_count": null,
   "metadata": {},
   "outputs": [],
   "source": [
    "chat_model._to_chat_prompt(messages)"
   ]
  },
  {
   "cell_type": "code",
   "execution_count": null,
   "metadata": {},
   "outputs": [],
   "source": [
    "res = chat_model.invoke(messages)\n",
    "print(res.content)"
   ]
  },
  {
   "cell_type": "code",
   "execution_count": 41,
   "metadata": {},
   "outputs": [
    {
     "name": "stdout",
     "output_type": "stream",
     "text": [
      "\n",
      "\n",
      "\u001b[1m> Entering new AgentExecutor chain...\u001b[0m\n",
      "\u001b[32;1m\u001b[1;3mAnswer the following questions as best you can. You have access to the following tools:\n",
      "\n",
      "duckduckgo_search: A wrapper around DuckDuckGo Search. Useful for when you need to answer questions about current events. Input should be a search query.\n",
      "\n",
      "Use the following format:\n",
      "\n",
      "Question: the input question you must answer\n",
      "Thought: you should always think about what to do\n",
      "Action: the action to take, should be one of [duckduckgo_search]\n",
      "Action Input: the input to the action\u001b[0m\n",
      "Observation: the action to take, should be one of [duckduckgo_search] is not a valid tool, try one of [duckduckgo_search].\n",
      "Thought:\u001b[32;1m\u001b[1;3mAnswer the following questions as best you can. You have access to the following tools:\n",
      "\n",
      "duckduckgo_search: A wrapper around DuckDuckGo Search. Useful for when you need to answer questions about current events. Input should be a search query.\n",
      "\n",
      "Use the following format:\n",
      "\n",
      "Question: the input question you must answer\n",
      "Thought: you should always think about what to do\n",
      "Action: the action to take, should be one of [duckduckgo_search]\n",
      "Action Input: the input to the action\u001b[0m\n",
      "Observation: the action to take, should be one of [duckduckgo_search] is not a valid tool, try one of [duckduckgo_search].\n",
      "Thought:\u001b[32;1m\u001b[1;3mAnswer the following questions as best you can. You have access to the following tools:\n",
      "\n",
      "duckduckgo_search: A wrapper around DuckDuckGo Search. Useful for when you need to answer questions about current events. Input should be a search query.\n",
      "\n",
      "Use the following format:\n",
      "\n",
      "Question: the input question you must answer\n",
      "Thought: you should always think about what to do\n",
      "Action: the action to take, should be one of [duckduckgo_search]\n",
      "Action Input: the input to the action\u001b[0m\n",
      "Observation: the action to take, should be one of [duckduckgo_search] is not a valid tool, try one of [duckduckgo_search].\n",
      "Thought:\u001b[32;1m\u001b[1;3mAnswer the following questions as best you can. You have access to the following tools:\n",
      "\n",
      "duckduckgo_search: A wrapper around DuckDuckGo Search. Useful for when you need to answer questions about current events. Input should be a search query.\n",
      "\n",
      "Use the following format:\n",
      "\n",
      "Question: the input question you must answer\n",
      "Thought: you should always think about what to do\n",
      "Action: the action to take, should be one of [duckduckgo_search]\n",
      "Action Input: the input to the action\u001b[0m\n",
      "Observation: the action to take, should be one of [duckduckgo_search] is not a valid tool, try one of [duckduckgo_search].\n",
      "Thought:\u001b[32;1m\u001b[1;3mAnswer the following questions as best you can. You have access to the following tools:\n",
      "\n",
      "duckduckgo_search: A wrapper around DuckDuckGo Search. Useful for when you need to answer questions about current events. Input should be a search query.\n",
      "\n",
      "Use the following format:\n",
      "\n",
      "Question: the input question you must answer\n",
      "Thought: you should always think about what to do\n",
      "Action: the action to take, should be one of [duckduckgo_search]\n",
      "Action Input: the input to the action\u001b[0m\n",
      "Observation: the action to take, should be one of [duckduckgo_search] is not a valid tool, try one of [duckduckgo_search].\n",
      "Thought:\u001b[32;1m\u001b[1;3mAnswer the following questions as best you can. You have access to the following tools:\n",
      "\n",
      "duckduckgo_search: A wrapper around DuckDuckGo Search. Useful for when you need to answer questions about current events. Input should be a search query.\n",
      "\n",
      "Use the following format:\n",
      "\n",
      "Question: the input question you must answer\n",
      "Thought: you should always think about what to do\n",
      "Action: the action to take, should be one of [duckduckgo_search]\n",
      "Action Input: the input to the action\u001b[0m\n",
      "Observation: the action to take, should be one of [duckduckgo_search] is not a valid tool, try one of [duckduckgo_search].\n",
      "Thought:\u001b[32;1m\u001b[1;3mAnswer the following questions as best you can. You have access to the following tools:\n",
      "\n",
      "duckduckgo_search: A wrapper around DuckDuckGo Search. Useful for when you need to answer questions about current events. Input should be a search query.\n",
      "\n",
      "Use the following format:\n",
      "\n",
      "Question: the input question you must answer\n",
      "Thought: you should always think about what to do\n",
      "Action: the action to take, should be one of [duckduckgo_search]\n",
      "Action Input: the input to the action\u001b[0m\n",
      "Observation: the action to take, should be one of [duckduckgo_search] is not a valid tool, try one of [duckduckgo_search].\n",
      "Thought:\u001b[32;1m\u001b[1;3mAnswer the following questions as best you can. You have access to the following tools:\n",
      "\n",
      "duckduckgo_search: A wrapper around DuckDuckGo Search. Useful for when you need to answer questions about current events. Input should be a search query.\n",
      "\n",
      "Use the following format:\n",
      "\n",
      "Question: the input question you must answer\n",
      "Thought: you should always think about what to do\n",
      "Action: the action to take, should be one of [duckduckgo_search]\n",
      "Action Input: the input to the action\u001b[0m\n",
      "Observation: the action to take, should be one of [duckduckgo_search] is not a valid tool, try one of [duckduckgo_search].\n",
      "Thought:\u001b[32;1m\u001b[1;3mAnswer the following questions as best you can. You have access to the following tools:\n",
      "\n",
      "duckduckgo_search: A wrapper around DuckDuckGo Search. Useful for when you need to answer questions about current events. Input should be a search query.\n",
      "\n",
      "Use the following format:\n",
      "\n",
      "Question: the input question you must answer\n",
      "Thought: you should always think about what to do\n",
      "Action: the action to take, should be one of [duckduckgo_search]\n",
      "Action Input: the input to the action\u001b[0m\n",
      "Observation: the action to take, should be one of [duckduckgo_search] is not a valid tool, try one of [duckduckgo_search].\n",
      "Thought:\u001b[32;1m\u001b[1;3mAnswer the following questions as best you can. You have access to the following tools:\n",
      "\n",
      "duckduckgo_search: A wrapper around DuckDuckGo Search. Useful for when you need to answer questions about current events. Input should be a search query.\n",
      "\n",
      "Use the following format:\n",
      "\n",
      "Question: the input question you must answer\n",
      "Thought: you should always think about what to do\n",
      "Action: the action to take, should be one of [duckduckgo_search]\n",
      "Action Input: the input to the action\u001b[0m\n",
      "Observation: the action to take, should be one of [duckduckgo_search] is not a valid tool, try one of [duckduckgo_search].\n",
      "Thought:\u001b[32;1m\u001b[1;3mAnswer the following questions as best you can. You have access to the following tools:\n",
      "\n",
      "duckduckgo_search: A wrapper around DuckDuckGo Search. Useful for when you need to answer questions about current events. Input should be a search query.\n",
      "\n",
      "Use the following format:\n",
      "\n",
      "Question: the input question you must answer\n",
      "Thought: you should always think about what to do\n",
      "Action: the action to take, should be one of [duckduckgo_search]\n",
      "Action Input: the input to the action\u001b[0m\n",
      "Observation: the action to take, should be one of [duckduckgo_search] is not a valid tool, try one of [duckduckgo_search].\n",
      "Thought:\u001b[32;1m\u001b[1;3mAnswer the following questions as best you can. You have access to the following tools:\n",
      "\n",
      "duckduckgo_search: A wrapper around DuckDuckGo Search. Useful for when you need to answer questions about current events. Input should be a search query.\n",
      "\n",
      "Use the following format:\n",
      "\n",
      "Question: the input question you must answer\n",
      "Thought: you should always think about what to do\n",
      "Action: the action to take, should be one of [duckduckgo_search]\n",
      "Action Input: the input to the action\u001b[0m\n",
      "Observation: the action to take, should be one of [duckduckgo_search] is not a valid tool, try one of [duckduckgo_search].\n",
      "Thought:\u001b[32;1m\u001b[1;3mAnswer the following questions as best you can. You have access to the following tools:\n",
      "\n",
      "duckduckgo_search: A wrapper around DuckDuckGo Search. Useful for when you need to answer questions about current events. Input should be a search query.\n",
      "\n",
      "Use the following format:\n",
      "\n",
      "Question: the input question you must answer\n",
      "Thought: you should always think about what to do\n",
      "Action: the action to take, should be one of [duckduckgo_search]\n",
      "Action Input: the input to the action\u001b[0m\n",
      "Observation: the action to take, should be one of [duckduckgo_search] is not a valid tool, try one of [duckduckgo_search].\n",
      "Thought:\u001b[32;1m\u001b[1;3mAnswer the following questions as best you can. You have access to the following tools:\n",
      "\n",
      "duckduckgo_search: A wrapper around DuckDuckGo Search. Useful for when you need to answer questions about current events. Input should be a search query.\n",
      "\n",
      "Use the following format:\n",
      "\n",
      "Question: the input question you must answer\n",
      "Thought: you should always think about what to do\n",
      "Action: the action to take, should be one of [duckduckgo_search]\n",
      "Action Input: the input to the action\u001b[0m\n",
      "Observation: the action to take, should be one of [duckduckgo_search] is not a valid tool, try one of [duckduckgo_search].\n",
      "Thought:\u001b[32;1m\u001b[1;3mAnswer the following questions as best you can. You have access to the following tools:\n",
      "\n",
      "duckduckgo_search: A wrapper around DuckDuckGo Search. Useful for when you need to answer questions about current events. Input should be a search query.\n",
      "\n",
      "Use the following format:\n",
      "\n",
      "Question: the input question you must answer\n",
      "Thought: you should always think about what to do\n",
      "Action: the action to take, should be one of [duckduckgo_search]\n",
      "Action Input: the input to the action\u001b[0m\n",
      "Observation: the action to take, should be one of [duckduckgo_search] is not a valid tool, try one of [duckduckgo_search].\n",
      "Thought:\u001b[32;1m\u001b[1;3m\u001b[0m\n",
      "\n",
      "\u001b[1m> Finished chain.\u001b[0m\n"
     ]
    },
    {
     "data": {
      "text/plain": [
       "'Agent stopped due to iteration limit or time limit.'"
      ]
     },
     "execution_count": 41,
     "metadata": {},
     "output_type": "execute_result"
    }
   ],
   "source": [
    "from langchain.agents import AgentType,initialize_agent,load_tools\n",
    "llm=llm\n",
    "tools=load_tools([\"ddg-search\"],llm=llm)\n",
    "agent=initialize_agent(tools,llm,agent=AgentType.ZERO_SHOT_REACT_DESCRIPTION,verbose=True)\n",
    "agent.run(\"Who is the chief minister of Karnataka?\")"
   ]
  },
  {
   "cell_type": "code",
   "execution_count": 50,
   "metadata": {},
   "outputs": [
    {
     "name": "stderr",
     "output_type": "stream",
     "text": [
      "/Users/charan/VS_Code/GitHub/Advanced_RAG/venv/lib/python3.11/site-packages/langchain_community/utilities/duckduckgo_search.py:47: UserWarning: DDGS running in an async loop. This may cause errors. Use AsyncDDGS instead.\n",
      "  with DDGS() as ddgs:\n"
     ]
    },
    {
     "data": {
      "text/plain": [
       "\"Ram Nath Kovind (born October 1, 1945, Paraukh, Uttar Pradesh state, India) Indian lawyer and politician who served as president of India (2017-22). He was the second person from the Dalit caste, after Kocheril Raman Narayanan, and the first member of the Bharatiya Janata Party (BJP) to hold the office. Narendra Damodardas Modi Born: September 17, 1950, Vadnagar, India (age 73) Title / Office: prime minister (2014-), India Political Affiliation: Bharatiya Janata Party Rashtriya Swayamsevak Sangh See all related content → Recent News Feb. 1, 2024, 4:11 AM ET (AP) The prime minister is appointed by the president of India; however, the prime minister has to enjoy the confidence of the majority of Lok Sabha members, who are directly elected every five years, lest the prime minister shall resign. The prime minister can be a member of the Lok Sabha or of the Rajya Sabha, the upper house of the parliament. The President is the formal head of the executive, legislature, and judiciary of India and is also the commander-in-chief of the Indian Armed Forces. On 21 July 2022, the result of the presidential election was made public, and Draupadi Murmu was the new India president. The second female President of India and the first tribal woman is Draupadi Murmu. Draupadi Murmu held the position of Jharkhand's first female governor As the Bharatiya Janata Party's candidate.\""
      ]
     },
     "execution_count": 50,
     "metadata": {},
     "output_type": "execute_result"
    }
   ],
   "source": [
    "from langchain.tools import DuckDuckGoSearchRun\n",
    "search = DuckDuckGoSearchRun()\n",
    "search.run(\"Who is the President of India?\")"
   ]
  },
  {
   "cell_type": "code",
   "execution_count": 54,
   "metadata": {},
   "outputs": [],
   "source": [
    "from langchain_community.utilities import DuckDuckGoSearchAPIWrapper\n",
    "from langchain.tools import DuckDuckGoSearchResults\n",
    "\n",
    "wrapper = DuckDuckGoSearchAPIWrapper(time=\"d\",)"
   ]
  },
  {
   "cell_type": "code",
   "execution_count": 55,
   "metadata": {},
   "outputs": [],
   "source": [
    "search = DuckDuckGoSearchResults(api_wrapper=wrapper)"
   ]
  },
  {
   "cell_type": "code",
   "execution_count": 56,
   "metadata": {},
   "outputs": [
    {
     "name": "stderr",
     "output_type": "stream",
     "text": [
      "/Users/charan/VS_Code/GitHub/Advanced_RAG/venv/lib/python3.11/site-packages/langchain_community/utilities/duckduckgo_search.py:47: UserWarning: DDGS running in an async loop. This may cause errors. Use AsyncDDGS instead.\n",
      "  with DDGS() as ddgs:\n"
     ]
    },
    {
     "data": {
      "text/plain": [
       "\"[snippet: In her almost 90-minute long speech, President Murmu, had listed the achievements of the Narendra Modi-led governments in the last decade, saying that January 22, the day the newly constructed Ram temple in Ayodhya was consecrated, was a defining moment. Wednesday was the first time the President addressed the joint session in the Lok Sabha chamber of the new Parliament building., title: Parliament Budget Session Live Updates ... - The Indian Express, link: https://indianexpress.com/article/india/parliament-budget-session-live-updates-pm-modi-address-9144489/], [snippet: Maldives President Mohamed Muizzu, who has drawn criticism for his anti-India stance, addressed the parliament today in the first session this year. According to Mihaaru newspaper, two main ..., title: Maldives' Anti-India President Addresses Parliament, 2 Parties Boycott, link: https://www.ndtv.com/world-news/maldives-mohamed-muizzu-maldives-anti-india-president-to-address-parliament-2-parties-to-boycott-4996174], [snippet: This is a list of current heads of state and heads of government. In some cases, mainly in presidential systems, there is only one leader being both head of state and head of government. In other cases, mainly in semi-presidential and parliamentary systems, the head of state and the head of government are different people. In semi-presidential and parliamentary systems, the head of government ..., title: List of current heads of state and government - Wikipedia, link: https://en.wikipedia.org/wiki/List_of_current_heads_of_state_and_government], [snippet: The French President visited India as the chief guest at the 75th Republic Day celebrations on January 26 and was warmly greeted by President Droupadi Murmu and PM Narendra Modi upon arrival at ..., title: French President Emmanuel Macron shares video of his recent visit to India, link: https://www.livemint.com/news/french-president-emmanuel-macron-shares-video-of-his-recent-visit-to-india-pm-modi-replies-will-boost-our-friendship-11707093293086.html]\""
      ]
     },
     "execution_count": 56,
     "metadata": {},
     "output_type": "execute_result"
    }
   ],
   "source": [
    "search.run(\"Who is the President of India?\")"
   ]
  },
  {
   "cell_type": "code",
   "execution_count": null,
   "metadata": {},
   "outputs": [],
   "source": []
  }
 ],
 "metadata": {
  "kernelspec": {
   "display_name": "venv",
   "language": "python",
   "name": "python3"
  },
  "language_info": {
   "codemirror_mode": {
    "name": "ipython",
    "version": 3
   },
   "file_extension": ".py",
   "mimetype": "text/x-python",
   "name": "python",
   "nbconvert_exporter": "python",
   "pygments_lexer": "ipython3",
   "version": "3.11.7"
  }
 },
 "nbformat": 4,
 "nbformat_minor": 2
}
