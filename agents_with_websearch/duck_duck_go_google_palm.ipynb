{
 "cells": [
  {
   "cell_type": "code",
   "execution_count": 1,
   "metadata": {},
   "outputs": [],
   "source": [
    "from langchain_google_genai import GoogleGenerativeAI\n",
    "from dotenv import load_dotenv\n",
    "load_dotenv()\n",
    "import warnings\n",
    "warnings.filterwarnings('ignore')"
   ]
  },
  {
   "cell_type": "code",
   "execution_count": 2,
   "metadata": {},
   "outputs": [],
   "source": [
    "llm = GoogleGenerativeAI(model=\"gemini-pro\")"
   ]
  },
  {
   "cell_type": "code",
   "execution_count": 3,
   "metadata": {},
   "outputs": [],
   "source": [
    "from langchain import PromptTemplate\n",
    "from langchain.llms import GooglePalm\n",
    "from langchain.schema.output_parser import StrOutputParser\n",
    "from langchain.schema.runnable import RunnablePassthrough, RunnableLambda"
   ]
  },
  {
   "cell_type": "code",
   "execution_count": 4,
   "metadata": {},
   "outputs": [],
   "source": [
    "BASELINE_PROMPT = \"\"\"Answer the below question which is asking for a concise factual answer. NO ADDITIONAL DETAILS.\n",
    "\n",
    "Question: {query}\n",
    "\n",
    "Answer:\"\"\"\n",
    "\n",
    "\n",
    "# Chain to generate initial response\n",
    "baseline_response_prompt_template = PromptTemplate.from_template(BASELINE_PROMPT)\n",
    "baseline_response_chain = baseline_response_prompt_template | llm | StrOutputParser()"
   ]
  },
  {
   "cell_type": "code",
   "execution_count": 5,
   "metadata": {},
   "outputs": [],
   "source": [
    "VERIFICATION_QUESTION_TEMPLATE = \"\"\"Your task is to create a verification question based on the below question provided.\n",
    "Example Question: Who wrote the book 'God of Small Things' ?\n",
    "Example Verification Question: Was book [God of Small Things] written by [writer]? If not who wrote [God of Small Things] ? \n",
    "Explanation: In the above example the verification question focused only on the ANSWER_ENTITY (name of the writer) and QUESTION_ENTITY (book name).\n",
    "Similarly you need to focus on the ANSWER_ENTITY and QUESTION_ENTITY from the actual question and generate verification question.\n",
    "\n",
    "Actual Question: {query}\n",
    "\n",
    "Final Verification Question:\"\"\"\n",
    "\n",
    "\n",
    "# Chain to generate a question template for verification answers\n",
    "verification_question_template_prompt_template = PromptTemplate.from_template(VERIFICATION_QUESTION_TEMPLATE)\n",
    "verification_question_template_chain = verification_question_template_prompt_template | llm | StrOutputParser()"
   ]
  },
  {
   "cell_type": "code",
   "execution_count": 6,
   "metadata": {},
   "outputs": [],
   "source": [
    "VERIFICATION_QUESTION_PROMPT= \"\"\"Your task is to create a series of verification questions based on the below question, the verfication question template and baseline response.\n",
    "Example Question: Who wrote the book 'God of Small Things' ?\n",
    "Example Verification Question Template: Was book [God of Small Things] written by [writer]? If not who wrote [God of Small Things]?\n",
    "Example Baseline Response: Jhumpa Lahiri\n",
    "Example Verification Question: 1. Was God of Small Things written by Jhumpa Lahiri? If not who wrote God of Small Things ?\n",
    "\n",
    "\n",
    "Explanation: In the above example the verification questions focused only on the ANSWER_ENTITY (name of the writer) and QUESTION_ENTITY (name of book) based on the template and substitutes entity values from the baseline response.\n",
    "Similarly you need to focus on the ANSWER_ENTITY and QUESTION_ENTITY from the actual question and substitute the entity values from the baseline response to generate verification questions.\n",
    "\n",
    "Actual Question: {query}\n",
    "Baseline Response: {base_response}\n",
    "Verification Question Template: {verification_question_template}\n",
    "\n",
    "Final Verification Questions:\"\"\"\n",
    "\n",
    "\n",
    "# Chain to generate the verification questions\n",
    "verification_question_generation_prompt_template = PromptTemplate.from_template(VERIFICATION_QUESTION_PROMPT)\n",
    "verification_question_generation_chain = verification_question_generation_prompt_template | llm | StrOutputParser()"
   ]
  },
  {
   "cell_type": "code",
   "execution_count": 7,
   "metadata": {},
   "outputs": [],
   "source": [
    "from langchain.agents import ConversationalChatAgent, AgentExecutor\n",
    "from langchain.tools import DuckDuckGoSearchResults\n",
    "\n",
    "#create search agent\n",
    "search = DuckDuckGoSearchResults()\n",
    "tools = [search]\n",
    "custom_system_message = \"Assistant assumes no knowledge & relies on internet search to answer user's queries.\"\n",
    "max_agent_iterations = 5\n",
    "max_execution_time = 10\n",
    "\n",
    "chat_agent = ConversationalChatAgent.from_llm_and_tools(\n",
    "    llm=llm, tools=tools, system_message=custom_system_message\n",
    ")\n",
    "search_executor = AgentExecutor.from_agent_and_tools(\n",
    "    agent=chat_agent,\n",
    "    tools=tools,\n",
    "    return_intermediate_steps=True,\n",
    "    handle_parsing_errors=True,\n",
    "    max_iterations=max_agent_iterations,\n",
    "    max_execution_time = max_execution_time\n",
    ")\n",
    "\n",
    "# chain to execute verification questions\n",
    "verification_chain = RunnablePassthrough.assign(\n",
    "    split_questions=lambda x: x['verification_questions'].split(\"\\n\"), # each verification question is passed one by one factored approach\n",
    ") | RunnablePassthrough.assign(\n",
    "    answers = (lambda x: [{\"input\": q,\"chat_history\": []} for q in x['split_questions']])| search_executor.map() # search executed for each question independently\n",
    ") | (lambda x: \"\\n\".join([\"Question: {} Answer: {}\\n\".format(question, answer['output']) for question, answer in zip(x['split_questions'], x['answers'])]))# Create final refined response"
   ]
  },
  {
   "cell_type": "code",
   "execution_count": 8,
   "metadata": {},
   "outputs": [],
   "source": [
    "FINAL_ANSWER_PROMPT= \"\"\"Given the below `Original Query` and `Baseline Answer`, analyze the `Verification Questions & Answers` to finally provide the refined answer.\n",
    "Original Query: {query}\n",
    "Baseline Answer: {base_response}\n",
    "\n",
    "Verification Questions & Answer Pairs:\n",
    "{verification_answers}\n",
    "\n",
    "Final Refined Answer:\"\"\"\n",
    "\n",
    "\n",
    "# Chain to generate the final answer\n",
    "final_answer_prompt_template = PromptTemplate.from_template(FINAL_ANSWER_PROMPT)\n",
    "final_answer_chain = final_answer_prompt_template | llm | StrOutputParser()"
   ]
  },
  {
   "cell_type": "code",
   "execution_count": 9,
   "metadata": {},
   "outputs": [],
   "source": [
    "chain = RunnablePassthrough.assign(\n",
    "    base_response=baseline_response_chain\n",
    ") |  RunnablePassthrough.assign(\n",
    "    verification_question_template=verification_question_template_chain\n",
    ") | RunnablePassthrough.assign(\n",
    "    verification_questions=verification_question_generation_chain\n",
    ") | RunnablePassthrough.assign(\n",
    "    verification_answers=verification_chain\n",
    ") | RunnablePassthrough.assign(\n",
    "    final_answer=final_answer_chain\n",
    ")\n",
    "\n",
    "response = chain.invoke({\"query\": \"Who wrote the book 'Economics of Small Things' ?\"})"
   ]
  },
  {
   "cell_type": "code",
   "execution_count": 10,
   "metadata": {},
   "outputs": [
    {
     "name": "stdout",
     "output_type": "stream",
     "text": [
      "{'base_response': 'Warren Buffett',\n",
      " 'final_answer': 'The Economics of Small Things was written by Dr. Sudipta '\n",
      "                 'Sarangi, a distinguished economist and Professor at Virginia '\n",
      "                 'Tech, USA.',\n",
      " 'query': \"Who wrote the book 'Economics of Small Things' ?\",\n",
      " 'verification_answers': 'Question: 1. Was Economics of Small Things written '\n",
      "                         'by Arundhati Roy? If not who wrote Economics of '\n",
      "                         'Small Things? Answer: The Economics of Small Things '\n",
      "                         'was written by Dr. Sudipta Sarangi, a distinguished '\n",
      "                         'economist and Professor at Virginia Tech, USA.\\n',\n",
      " 'verification_question_template': 'Was book [Economics of Small Things] '\n",
      "                                   'written by [Arundhati Roy]? If not who '\n",
      "                                   'wrote [Economics of Small Things] ?',\n",
      " 'verification_questions': '1. Was Economics of Small Things written by '\n",
      "                           'Arundhati Roy? If not who wrote Economics of Small '\n",
      "                           'Things?'}\n"
     ]
    }
   ],
   "source": [
    "from pprint import pprint \n",
    "pprint(response)"
   ]
  },
  {
   "cell_type": "code",
   "execution_count": 11,
   "metadata": {},
   "outputs": [
    {
     "name": "stdout",
     "output_type": "stream",
     "text": [
      "The Economics of Small Things was written by Dr. Sudipta Sarangi, a distinguished economist and Professor at Virginia Tech, USA.\n"
     ]
    }
   ],
   "source": [
    "print(response['final_answer'])"
   ]
  },
  {
   "cell_type": "code",
   "execution_count": 19,
   "metadata": {},
   "outputs": [
    {
     "name": "stderr",
     "output_type": "stream",
     "text": [
      "Task was destroyed but it is pending!\n",
      "task: <Task pending name='Task-31' coro=<AsyncDDGS.__aexit__() running at /Users/charan/VS_Code/GitHub/Advanced_RAG/venv/lib/python3.11/site-packages/duckduckgo_search/duckduckgo_search_async.py:46>>\n",
      "Task was destroyed but it is pending!\n",
      "task: <Task pending name='Task-15' coro=<AsyncCurl._force_timeout() running at /Users/charan/VS_Code/GitHub/Advanced_RAG/venv/lib/python3.11/site-packages/curl_cffi/aio.py:168> wait_for=<Future pending cb=[Task.__wakeup()]>>\n",
      "Task was destroyed but it is pending!\n",
      "task: <Task pending name='Task-36' coro=<AsyncDDGS.__aexit__() running at /Users/charan/VS_Code/GitHub/Advanced_RAG/venv/lib/python3.11/site-packages/duckduckgo_search/duckduckgo_search_async.py:46>>\n",
      "Task was destroyed but it is pending!\n",
      "task: <Task pending name='Task-18' coro=<AsyncCurl._force_timeout() running at /Users/charan/VS_Code/GitHub/Advanced_RAG/venv/lib/python3.11/site-packages/curl_cffi/aio.py:168> wait_for=<Future pending cb=[Task.__wakeup()]>>\n",
      "Task was destroyed but it is pending!\n",
      "task: <Task pending name='Task-26' coro=<AsyncDDGS.__aexit__() running at /Users/charan/VS_Code/GitHub/Advanced_RAG/venv/lib/python3.11/site-packages/duckduckgo_search/duckduckgo_search_async.py:46>>\n",
      "Task was destroyed but it is pending!\n",
      "task: <Task pending name='Task-11' coro=<AsyncCurl._force_timeout() running at /Users/charan/VS_Code/GitHub/Advanced_RAG/venv/lib/python3.11/site-packages/curl_cffi/aio.py:168> wait_for=<Future pending cb=[Task.__wakeup()]>>\n"
     ]
    },
    {
     "name": "stdout",
     "output_type": "stream",
     "text": [
      "Yes, Charana H U creates YouTube videos in Kannada. His most recent video is titled 'Sandak Nam | සඳක් නම් | Rohan Shantha Bulegoda | Charana Beats'.\n"
     ]
    }
   ],
   "source": [
    "response = chain.invoke({\"query\": \"Who is Charana H U? does he creates  youtube videos in kannada?, which is his latest llm video\"})\n",
    "print(response['final_answer'])"
   ]
  },
  {
   "cell_type": "code",
   "execution_count": 13,
   "metadata": {},
   "outputs": [
    {
     "name": "stdout",
     "output_type": "stream",
     "text": [
      "{'base_response': '',\n",
      " 'final_answer': 'I apologize, but I do not have the information necessary to '\n",
      "                 'answer your question. You may want to try searching for the '\n",
      "                 'answer using a search engine.',\n",
      " 'query': 'Who is Charana H U? does he creates  youtube videos in kannada?, '\n",
      "          'which is his latest llm video',\n",
      " 'verification_answers': 'Question: 1. Is Charana H U the creator of the '\n",
      "                         'youtube video [any video title]? If not, who is the '\n",
      "                         'creator of the youtube video [any video title]? '\n",
      "                         'Answer: I was unable to find the answer to your '\n",
      "                         'question in the context you provided.\\n'\n",
      "                         '\\n'\n",
      "                         'Question: 2. Is Charana H U the creator of the '\n",
      "                         'youtube video [any video title]? If not, who is the '\n",
      "                         'creator of the youtube video [any video title]? '\n",
      "                         'Answer: I do not have a response to your last '\n",
      "                         'comment.\\n'\n",
      "                         '\\n'\n",
      "                         'Question: 3. Is Charana H U the creator of the '\n",
      "                         'youtube video [any video title]? If not, who is the '\n",
      "                         'creator of the youtube video [any video title]? '\n",
      "                         'Answer: I apologize, but I do not have the '\n",
      "                         'information necessary to answer your question. You '\n",
      "                         'may want to try searching for the answer using a '\n",
      "                         'search engine.\\n',\n",
      " 'verification_question_template': 'Is Charana H U the creator of the youtube '\n",
      "                                   'video [video title]? If not, who is the '\n",
      "                                   'creator of the youtube video [video '\n",
      "                                   'title]?',\n",
      " 'verification_questions': '1. Is Charana H U the creator of the youtube video '\n",
      "                           '[any video title]? If not, who is the creator of '\n",
      "                           'the youtube video [any video title]?\\n'\n",
      "                           '2. Is Charana H U the creator of the youtube video '\n",
      "                           '[any video title]? If not, who is the creator of '\n",
      "                           'the youtube video [any video title]?\\n'\n",
      "                           '3. Is Charana H U the creator of the youtube video '\n",
      "                           '[any video title]? If not, who is the creator of '\n",
      "                           'the youtube video [any video title]?'}\n"
     ]
    }
   ],
   "source": [
    "pprint(response)"
   ]
  },
  {
   "cell_type": "code",
   "execution_count": 14,
   "metadata": {},
   "outputs": [
    {
     "data": {
      "text/plain": [
       "'Written by Charan H U. 27 Followers. Applied AI Engineer | Internet Content Creator | Freelancer | Farmer | Student. Follow. More from Charan H U. Charan H U. Softmax and cross-entropy for multi-class classification. Let\\'s say you\\'re trying to classify animals in a jungle. You have pictures of different animals like lions, tigers, bears and ... Charan H U Applied AI Engineer at IBM | Responsible Transparent AI Application Builder | Internet Content Creator Additionally, adopting standardized methods for explainability, promoting ... Charan Ranganath fitting an EEG cap (to read electrical signals from the brain) on a volunteer in 2013. UC Davis I think everyone has seemingly inexplicable memories that stick with us. Charan Ranganath is a professor of psychology and neuroscience at UC Davis. This essay was adapted for the Los Angeles Times from the author\\'s forthcoming book, \"Why We Remember: Unlocking ... Memory is a quirky thing, writes Ranganath, director of the Dynamic Memory Lab at the University of California, Davis. We can remember song lyrics from 20 years ago, but we can also forget what we ate yesterday. The author has been trying to understand memory for decades, and he admits that a huge amount still remains a puzzle.'"
      ]
     },
     "execution_count": 14,
     "metadata": {},
     "output_type": "execute_result"
    }
   ],
   "source": [
    "from langchain.tools import DuckDuckGoSearchRun\n",
    "from langchain.tools import DuckDuckGoSearchResults\n",
    "search = DuckDuckGoSearchRun()\n",
    "search.run(\"Charan H U?\")"
   ]
  },
  {
   "cell_type": "code",
   "execution_count": 15,
   "metadata": {},
   "outputs": [
    {
     "data": {
      "text/plain": [
       "'[snippet: Written by Charan H U. 27 Followers. Applied AI Engineer | Internet Content Creator | Freelancer | Farmer | Student. Follow. More from Charan H U. Charan H U. Softmax and cross-entropy for multi-class classification. Let\\'s say you\\'re trying to classify animals in a jungle. You have pictures of different animals like lions, tigers, bears and ..., title: Converting Pandas DataFrame into a Dataset and Pushing to Hugging Face ..., link: https://charanhu.medium.com/converting-pandas-dataframe-into-a-dataset-and-pushing-to-hugging-face-146e2ccac38d], [snippet: Charan Ranganath fitting an EEG cap (to read electrical signals from the brain) on a volunteer in 2013. UC Davis I think everyone has seemingly inexplicable memories that stick with us., title: A Leading Memory Researcher Explains How to Make Precious Moments Last ..., link: https://www.nytimes.com/interactive/2024/02/04/magazine/charan-ranganath-interview.html], [snippet: Charan Ranganath recently wrote an op-ed about President Biden\\'s memory gaffes. He says forgetting is a normal part of aging. His new book is Why We Remember., title: Neuroscientist Charan Ranganath discusses the science of memory : NPR, link: https://www.npr.org/2024/02/26/1233900923/charan-ranganath-biden-memory-what-we-remember], [snippet: Charan Ranganath is a professor of psychology and neuroscience at UC Davis. This essay was adapted for the Los Angeles Times from the author\\'s forthcoming book, \"Why We Remember: Unlocking ..., title: Charan Ranganath: The surprising way to help your brain remember, link: https://www.twincities.com/2024/03/03/charan-ranganath-the-surprising-way-to-help-your-brain-remember/]'"
      ]
     },
     "execution_count": 15,
     "metadata": {},
     "output_type": "execute_result"
    }
   ],
   "source": [
    "search = DuckDuckGoSearchResults()\n",
    "search.run(\"Charan H U?\")"
   ]
  },
  {
   "cell_type": "code",
   "execution_count": 16,
   "metadata": {},
   "outputs": [
    {
     "data": {
      "text/plain": [
       "''"
      ]
     },
     "execution_count": 16,
     "metadata": {},
     "output_type": "execute_result"
    }
   ],
   "source": [
    "search = DuckDuckGoSearchResults(backend=\"youtube\")\n",
    "search.run(\"Charan H U?\")"
   ]
  },
  {
   "cell_type": "code",
   "execution_count": 17,
   "metadata": {},
   "outputs": [],
   "source": [
    "from langchain_community.utilities import DuckDuckGoSearchAPIWrapper\n",
    "\n",
    "wrapper = DuckDuckGoSearchAPIWrapper(time=\"d\")"
   ]
  },
  {
   "cell_type": "code",
   "execution_count": 18,
   "metadata": {},
   "outputs": [
    {
     "data": {
      "text/plain": [
       "'Charan Kaur, also known as Charanjeet Kaur Sidhu, is a name that has recently made headlines for two reasons. One, she is the mother of the late Punjabi rap ... Delhi University (2013 - 2016). • PG Diploma in Journalism (English), IIMC Delhi (2012). Experience • 6 Month Digital media Intern at Outlook India, New Delhi (2016). CCSHAU Hisar Courses and Fees 2023. The modes of Chaudhary Charan Singh Haryana Agricultural University course admissions 2023 are online and offline. Admission to various CCSHAU Hisar Courses is based on entrance exams and merit. At the PG level, Full-time M.Sc., M.F.Sc., M.Tech., and MBA programmes are available. Charan Singh (born Dec. 23, 1902, Noorpur, Uttar Pradesh, India—died May 29, 1987, New Delhi) was an Indian politician who served briefly as prime minister (1979-80) and was known for his land and agricultural reform initiatives.. Singh became a lawyer and in 1929 joined the Indian National Congress movement. He was jailed several times in the struggle for Indian independence. Ram Charan, star of Oscar- and Golden Globe-winning film \" RRR ,\" has revealed the title of his next film. \" Game Changer it is!!!!,\". Charan said, revealing the title of the film on his ... Charan Ranganath recently wrote an op-ed about President Biden\\'s memory gaffes. He says forgetting is a normal part of aging. His new book is Why We Remember.'"
      ]
     },
     "execution_count": 18,
     "metadata": {},
     "output_type": "execute_result"
    }
   ],
   "source": [
    "search = DuckDuckGoSearchRun()\n",
    "search.run(\"'Who is Charan H U'?\")"
   ]
  },
  {
   "cell_type": "code",
   "execution_count": null,
   "metadata": {},
   "outputs": [],
   "source": []
  },
  {
   "cell_type": "code",
   "execution_count": null,
   "metadata": {},
   "outputs": [],
   "source": []
  },
  {
   "cell_type": "code",
   "execution_count": null,
   "metadata": {},
   "outputs": [],
   "source": []
  }
 ],
 "metadata": {
  "kernelspec": {
   "display_name": "venv",
   "language": "python",
   "name": "python3"
  },
  "language_info": {
   "codemirror_mode": {
    "name": "ipython",
    "version": 3
   },
   "file_extension": ".py",
   "mimetype": "text/x-python",
   "name": "python",
   "nbconvert_exporter": "python",
   "pygments_lexer": "ipython3",
   "version": "3.11.7"
  }
 },
 "nbformat": 4,
 "nbformat_minor": 2
}
