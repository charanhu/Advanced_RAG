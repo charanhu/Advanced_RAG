{
 "cells": [
  {
   "cell_type": "code",
   "execution_count": null,
   "metadata": {},
   "outputs": [],
   "source": [
    "from langchain_google_genai import GoogleGenerativeAI\n",
    "from dotenv import load_dotenv\n",
    "load_dotenv()"
   ]
  },
  {
   "cell_type": "code",
   "execution_count": null,
   "metadata": {},
   "outputs": [],
   "source": [
    "llm = GoogleGenerativeAI(model=\"gemini-pro\")"
   ]
  },
  {
   "cell_type": "code",
   "execution_count": null,
   "metadata": {},
   "outputs": [],
   "source": [
    "from langchain import PromptTemplate\n",
    "from langchain.llms import GooglePalm\n",
    "from langchain.schema.output_parser import StrOutputParser\n",
    "from langchain.schema.runnable import RunnablePassthrough, RunnableLambda"
   ]
  },
  {
   "cell_type": "code",
   "execution_count": null,
   "metadata": {},
   "outputs": [],
   "source": [
    "BASELINE_PROMPT = \"\"\"Answer the below question which is asking for a concise factual answer. NO ADDITIONAL DETAILS.\n",
    "\n",
    "Question: {query}\n",
    "\n",
    "Answer:\"\"\"\n",
    "\n",
    "\n",
    "# Chain to generate initial response\n",
    "baseline_response_prompt_template = PromptTemplate.from_template(BASELINE_PROMPT)\n",
    "baseline_response_chain = baseline_response_prompt_template | llm | StrOutputParser()"
   ]
  },
  {
   "cell_type": "code",
   "execution_count": null,
   "metadata": {},
   "outputs": [],
   "source": [
    "VERIFICATION_QUESTION_TEMPLATE = \"\"\"Your task is to create a verification question based on the below question provided.\n",
    "Example Question: Who wrote the book 'God of Small Things' ?\n",
    "Example Verification Question: Was book [God of Small Things] written by [writer]? If not who wrote [God of Small Things] ? \n",
    "Explanation: In the above example the verification question focused only on the ANSWER_ENTITY (name of the writer) and QUESTION_ENTITY (book name).\n",
    "Similarly you need to focus on the ANSWER_ENTITY and QUESTION_ENTITY from the actual question and generate verification question.\n",
    "\n",
    "Actual Question: {query}\n",
    "\n",
    "Final Verification Question:\"\"\"\n",
    "\n",
    "\n",
    "# Chain to generate a question template for verification answers\n",
    "verification_question_template_prompt_template = PromptTemplate.from_template(VERIFICATION_QUESTION_TEMPLATE)\n",
    "verification_question_template_chain = verification_question_template_prompt_template | llm | StrOutputParser()"
   ]
  },
  {
   "cell_type": "code",
   "execution_count": null,
   "metadata": {},
   "outputs": [],
   "source": [
    "VERIFICATION_QUESTION_PROMPT= \"\"\"Your task is to create a series of verification questions based on the below question, the verfication question template and baseline response.\n",
    "Example Question: Who wrote the book 'God of Small Things' ?\n",
    "Example Verification Question Template: Was book [God of Small Things] written by [writer]? If not who wrote [God of Small Things]?\n",
    "Example Baseline Response: Jhumpa Lahiri\n",
    "Example Verification Question: 1. Was God of Small Things written by Jhumpa Lahiri? If not who wrote God of Small Things ?\n",
    "\n",
    "\n",
    "Explanation: In the above example the verification questions focused only on the ANSWER_ENTITY (name of the writer) and QUESTION_ENTITY (name of book) based on the template and substitutes entity values from the baseline response.\n",
    "Similarly you need to focus on the ANSWER_ENTITY and QUESTION_ENTITY from the actual question and substitute the entity values from the baseline response to generate verification questions.\n",
    "\n",
    "Actual Question: {query}\n",
    "Baseline Response: {base_response}\n",
    "Verification Question Template: {verification_question_template}\n",
    "\n",
    "Final Verification Questions:\"\"\"\n",
    "\n",
    "\n",
    "# Chain to generate the verification questions\n",
    "verification_question_generation_prompt_template = PromptTemplate.from_template(VERIFICATION_QUESTION_PROMPT)\n",
    "verification_question_generation_chain = verification_question_generation_prompt_template | llm | StrOutputParser()"
   ]
  },
  {
   "cell_type": "code",
   "execution_count": null,
   "metadata": {},
   "outputs": [],
   "source": [
    "from langchain.agents import ConversationalChatAgent, AgentExecutor\n",
    "from langchain.tools import DuckDuckGoSearchResults\n",
    "\n",
    "#create search agent\n",
    "search = DuckDuckGoSearchResults()\n",
    "tools = [search]\n",
    "custom_system_message = \"Assistant assumes no knowledge & relies on internet search to answer user's queries.\"\n",
    "max_agent_iterations = 5\n",
    "max_execution_time = 10\n",
    "\n",
    "chat_agent = ConversationalChatAgent.from_llm_and_tools(\n",
    "    llm=llm, tools=tools, system_message=custom_system_message\n",
    ")\n",
    "search_executor = AgentExecutor.from_agent_and_tools(\n",
    "    agent=chat_agent,\n",
    "    tools=tools,\n",
    "    return_intermediate_steps=True,\n",
    "    handle_parsing_errors=True,\n",
    "    max_iterations=max_agent_iterations,\n",
    "    max_execution_time = max_execution_time\n",
    ")\n",
    "\n",
    "# chain to execute verification questions\n",
    "verification_chain = RunnablePassthrough.assign(\n",
    "    split_questions=lambda x: x['verification_questions'].split(\"\\n\"), # each verification question is passed one by one factored approach\n",
    ") | RunnablePassthrough.assign(\n",
    "    answers = (lambda x: [{\"input\": q,\"chat_history\": []} for q in x['split_questions']])| search_executor.map() # search executed for each question independently\n",
    ") | (lambda x: \"\\n\".join([\"Question: {} Answer: {}\\n\".format(question, answer['output']) for question, answer in zip(x['split_questions'], x['answers'])]))# Create final refined response"
   ]
  },
  {
   "cell_type": "code",
   "execution_count": null,
   "metadata": {},
   "outputs": [],
   "source": [
    "FINAL_ANSWER_PROMPT= \"\"\"Given the below `Original Query` and `Baseline Answer`, analyze the `Verification Questions & Answers` to finally provide the refined answer.\n",
    "Original Query: {query}\n",
    "Baseline Answer: {base_response}\n",
    "\n",
    "Verification Questions & Answer Pairs:\n",
    "{verification_answers}\n",
    "\n",
    "Final Refined Answer:\"\"\"\n",
    "\n",
    "\n",
    "# Chain to generate the final answer\n",
    "final_answer_prompt_template = PromptTemplate.from_template(FINAL_ANSWER_PROMPT)\n",
    "final_answer_chain = final_answer_prompt_template | llm | StrOutputParser()"
   ]
  },
  {
   "cell_type": "code",
   "execution_count": null,
   "metadata": {},
   "outputs": [],
   "source": [
    "chain = RunnablePassthrough.assign(\n",
    "    base_response=baseline_response_chain\n",
    ") |  RunnablePassthrough.assign(\n",
    "    verification_question_template=verification_question_template_chain\n",
    ") | RunnablePassthrough.assign(\n",
    "    verification_questions=verification_question_generation_chain\n",
    ") | RunnablePassthrough.assign(\n",
    "    verification_answers=verification_chain\n",
    ") | RunnablePassthrough.assign(\n",
    "    final_answer=final_answer_chain\n",
    ")\n",
    "\n",
    "response = chain.invoke({\"query\": \"Who wrote the book 'Economics of Small Things' ?\"})"
   ]
  },
  {
   "cell_type": "code",
   "execution_count": null,
   "metadata": {},
   "outputs": [],
   "source": [
    "from pprint import pprint \n",
    "pprint(response)"
   ]
  },
  {
   "cell_type": "code",
   "execution_count": null,
   "metadata": {},
   "outputs": [],
   "source": [
    "print(response['final_answer'])"
   ]
  },
  {
   "cell_type": "code",
   "execution_count": null,
   "metadata": {},
   "outputs": [],
   "source": [
    "response = chain.invoke({\"query\": \"Who is 'Charan H U', does he creates  youtube videos in kannada?, which is his latest video\"})\n",
    "print(response['final_answer'])"
   ]
  },
  {
   "cell_type": "code",
   "execution_count": null,
   "metadata": {},
   "outputs": [],
   "source": [
    "pprint(response)"
   ]
  },
  {
   "cell_type": "code",
   "execution_count": 10,
   "metadata": {},
   "outputs": [
    {
     "name": "stderr",
     "output_type": "stream",
     "text": [
      "/Users/charan/VS_Code/GitHub/Advanced_RAG/venv/lib/python3.11/site-packages/langchain_community/utilities/duckduckgo_search.py:47: UserWarning: DDGS running in an async loop. This may cause errors. Use AsyncDDGS instead.\n",
      "  with DDGS() as ddgs:\n"
     ]
    },
    {
     "data": {
      "text/plain": [
       "'Hello friends! Welcome to Charan H U YouTube channel. In this video I explained about Desk Setup Tour 2023! | ಡೆಸ್ಕ್ ಸೆಟಪ್ ಪ್ರವಾಸ 2023! | Charan H Uಚರಣ್ ... 1 Why explainability and transparency matter 2 What are the challenges of AI explainability and transparency 3 What are some strategies for AI explainability and transparency 4 What are some... \"We update our memories through the act of remembering,\" says Charan Ranganath, a professor of psychology and neuroscience at the University of California, Davis, and the author of the... DS.dev is an initiative taken by Dan and me to make Data structures and Algorithms accessible to all. We wrote the project in React, working on various animations and works. The end goal is to ... Department of Psychology charan@ucdavis.edu Ranganath Lab Charan Ranganath\\'s Dynamic Memory Lab @CharanRanganath Charan Ranganath is Director of the Memory and Plasticity Program and a Professor of Psychology and Neuroscience at the University of California at Davis.'"
      ]
     },
     "execution_count": 10,
     "metadata": {},
     "output_type": "execute_result"
    }
   ],
   "source": [
    "from langchain.tools import DuckDuckGoSearchRun\n",
    "from langchain.tools import DuckDuckGoSearchResults\n",
    "search = DuckDuckGoSearchRun()\n",
    "search.run(\"Charan H U?\")"
   ]
  },
  {
   "cell_type": "code",
   "execution_count": 11,
   "metadata": {},
   "outputs": [
    {
     "name": "stderr",
     "output_type": "stream",
     "text": [
      "/Users/charan/VS_Code/GitHub/Advanced_RAG/venv/lib/python3.11/site-packages/langchain_community/utilities/duckduckgo_search.py:47: UserWarning: DDGS running in an async loop. This may cause errors. Use AsyncDDGS instead.\n",
      "  with DDGS() as ddgs:\n"
     ]
    },
    {
     "data": {
      "text/plain": [
       "'[snippet: Hello friends! Welcome to Charan H U YouTube channel. In this video I explained about Desk Setup Tour 2023! | ಡೆಸ್ಕ್ ಸೆಟಪ್ ಪ್ರವಾಸ 2023! | Charan H Uಚರಣ್ ..., title: Desk Setup Tour 2023! | ಡೆಸ್ಕ್ ಸೆಟಪ್ ಪ್ರವಾಸ 2023! | Charan H U, link: https://www.youtube.com/watch?v=1zoKLY2SEUE], [snippet: 1 Why explainability and transparency matter 2 What are the challenges of AI explainability and transparency 3 What are some strategies for AI explainability and transparency 4 What are some..., title: Strategies for AI Explainability and Transparency - LinkedIn, link: https://www.linkedin.com/advice/0/what-some-strategies-ai-explainability-transparency-wcp2c], [snippet: \"We update our memories through the act of remembering,\" says Charan Ranganath, a professor of psychology and neuroscience at the University of California, Davis, and the author of the..., title: A Leading Memory Researcher Explains How to Make Precious Moments Last ..., link: https://www.nytimes.com/interactive/2024/02/04/magazine/charan-ranganath-interview.html], [snippet: DS.dev is an initiative taken by Dan and me to make Data structures and Algorithms accessible to all. We wrote the project in React, working on various animations and works. The end goal is to ..., title: Devansh Devansh - SVAM International Inc. | LinkedIn, link: https://www.linkedin.com/in/devansh-devansh-516004168]'"
      ]
     },
     "execution_count": 11,
     "metadata": {},
     "output_type": "execute_result"
    }
   ],
   "source": [
    "search = DuckDuckGoSearchResults()\n",
    "search.run(\"Charan H U?\")"
   ]
  },
  {
   "cell_type": "code",
   "execution_count": 12,
   "metadata": {},
   "outputs": [
    {
     "data": {
      "text/plain": [
       "''"
      ]
     },
     "execution_count": 12,
     "metadata": {},
     "output_type": "execute_result"
    }
   ],
   "source": [
    "search = DuckDuckGoSearchResults(backend=\"youtube\")\n",
    "search.run(\"Charan H U?\")"
   ]
  },
  {
   "cell_type": "code",
   "execution_count": 19,
   "metadata": {},
   "outputs": [],
   "source": [
    "from langchain_community.utilities import DuckDuckGoSearchAPIWrapper\n",
    "\n",
    "wrapper = DuckDuckGoSearchAPIWrapper(time=\"d\")"
   ]
  },
  {
   "cell_type": "code",
   "execution_count": 21,
   "metadata": {},
   "outputs": [
    {
     "name": "stderr",
     "output_type": "stream",
     "text": [
      "/Users/charan/VS_Code/GitHub/Advanced_RAG/venv/lib/python3.11/site-packages/langchain_community/utilities/duckduckgo_search.py:47: UserWarning: DDGS running in an async loop. This may cause errors. Use AsyncDDGS instead.\n",
      "  with DDGS() as ddgs:\n"
     ]
    },
    {
     "data": {
      "text/plain": [
       "'Hello friends! Welcome to Charan H U YouTube channel. In this video I explained about Desk Setup Tour 2023! | ಡೆಸ್ಕ್ ಸೆಟಪ್ ಪ್ರವಾಸ 2023! | Charan H Uಚರಣ್ ... \"We update our memories through the act of remembering,\" says Charan Ranganath, a professor of psychology and neuroscience at the University of California, Davis, and the author of the... Chiranjeevi. Konidela Chiranjeevi (born Konidela Sivasankara Varaprasad; 22 August 1955) is an Indian actor, film producer and former politician. He is regarded as one of the most successful and influential actors in the history of Indian cinema. [7] [8] In a career spanning over four decades, he starred in over 150 feature films predominantly ... Days after the government announced the prestigious Padma Vibhushan for Chiranjeevi, his son-actor Ram Charan and daughter-in-law Upasana hosted a dazzling celebration at the family\\'s farmhouse on the outskirts of Hyderabad. Prominent personalities from the Telugu film industry and political arena attended the star-studded event. Charan Ranganath is Director of the Memory and Plasticity Program and a Professor of Psychology and Neuroscience at the University of California at Davis.'"
      ]
     },
     "execution_count": 21,
     "metadata": {},
     "output_type": "execute_result"
    }
   ],
   "source": [
    "search = DuckDuckGoSearchRun()\n",
    "search.run(\"'Who is Charan H U'?\")"
   ]
  },
  {
   "cell_type": "code",
   "execution_count": null,
   "metadata": {},
   "outputs": [],
   "source": []
  },
  {
   "cell_type": "code",
   "execution_count": null,
   "metadata": {},
   "outputs": [],
   "source": []
  },
  {
   "cell_type": "code",
   "execution_count": null,
   "metadata": {},
   "outputs": [],
   "source": []
  }
 ],
 "metadata": {
  "kernelspec": {
   "display_name": "venv",
   "language": "python",
   "name": "python3"
  },
  "language_info": {
   "codemirror_mode": {
    "name": "ipython",
    "version": 3
   },
   "file_extension": ".py",
   "mimetype": "text/x-python",
   "name": "python",
   "nbconvert_exporter": "python",
   "pygments_lexer": "ipython3",
   "version": "3.11.7"
  }
 },
 "nbformat": 4,
 "nbformat_minor": 2
}
