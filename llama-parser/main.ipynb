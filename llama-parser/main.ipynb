{
 "cells": [
  {
   "cell_type": "code",
   "execution_count": null,
   "metadata": {},
   "outputs": [],
   "source": [
    "# !pip install llama-parse\n",
    "# !pip install llama-index-vector-stores-chroma\n",
    "# !pip install llama-index-embeddings-huggingface\n",
    "# !pip install llama-index-llms-langchain\n",
    "# !pip install llama-index-llms-gemini"
   ]
  },
  {
   "cell_type": "code",
   "execution_count": null,
   "metadata": {},
   "outputs": [],
   "source": [
    "import bs4\n",
    "from langchain import hub\n",
    "from langchain.text_splitter import RecursiveCharacterTextSplitter\n",
    "from langchain_community.document_loaders import WebBaseLoader\n",
    "from langchain_community.vectorstores import Chroma\n",
    "from langchain_core.output_parsers import StrOutputParser\n",
    "from langchain_google_genai import GoogleGenerativeAI\n",
    "from langchain_community.embeddings import HuggingFaceEmbeddings\n",
    "\n",
    "from dotenv import load_dotenv\n",
    "load_dotenv()"
   ]
  },
  {
   "cell_type": "code",
   "execution_count": null,
   "metadata": {},
   "outputs": [],
   "source": [
    "from llama_parse import LlamaParse  # pip install llama-parse\n",
    "import nest_asyncio\n",
    "nest_asyncio.apply()\n",
    "\n",
    "parser = LlamaParse(\n",
    "    api_key=\"llx-njIVCaPDqYOUfzRcFanrVBEYX6tuB8MXzBnCCGTZcxNs0HhY\",  # can also be set in your env as LLAMA_CLOUD_API_KEY\n",
    "    result_type=\"markdown\"  # \"markdown\" and \"text\" are available\n",
    ")\n",
    "\n",
    "# sync\n",
    "documents = parser.load_data(\"386753.pdf\")"
   ]
  },
  {
   "cell_type": "code",
   "execution_count": 52,
   "metadata": {},
   "outputs": [
    {
     "data": {
      "text/plain": [
       "[Document(id_='2755abf2-9308-4671-8634-4c475a03871f', embedding=None, metadata={}, excluded_embed_metadata_keys=[], excluded_llm_metadata_keys=[], relationships={}, text=\"|UPSTREAM ASSET FACTSHEET|January 2024|\\n|---|---|\\n|LIEGE|Canada|\\n|Erik Wold|Rystad Energy|\\n---\\n|Contents|Page|\\n|---|---|\\n|Executive Summary|3|\\n|Map|5|\\n|Petroleum System|7|\\n|Resources and production|8|\\n|Cash flows and valuation|10|\\n|Transactions|14|\\n|Assumptions|15|\\n|Glossary|16|\\n\\nErik Wold\\n\\nRystad Energy\\n---\\n## Executive Summary\\n\\nThe Liege project is located in the Western Canada Resources, which has a 100% working interest. Sedimentary basin in Canada. The project is expected to be approved in 2058 and start production in 2063. The project is expected to reach peak production in 2068 at 32,000 boepd. The primary field, Liege, CA will be developed with onshore. Production will be exported via onshore pipeline for liquids. Original recoverable resources are estimated at 421 million boe, with 100% liquids content. According to Rystad Energy’s base case scenario, the NPV for the field is estimated at $1.8 billion. The field is operated by Strathcona\\n\\n|Recoverable economical resources|Total production|\\n|---|---|\\n|Million boe|Thousand boepd|\\n|Crude Oil|421|421|100%|\\n|Condensate| |80%|\\n|NGL| |40%|\\n|Gas| |0%|\\n\\nTotal cash flow\\n\\nMillion USD\\n2,500\\n2,000\\n1,500\\n1,000\\n500\\n0\\n-500\\n-1,000\\n\\nFree Cash Flow\\n\\nGovernment Take\\n\\nCapex\\n\\nExploration Capex\\n\\nOpex\\n\\nRevenue\\n\\nErik Wold\\n\\nRystad Energy\\n---\\n|Ownership|%|\\n|---|---|\\n|Strathcona Resources|100.0|\\n\\n|Key metrics|At approval (2058)|Remaining|\\n|---|---|---|\\n|CAPEX (Real 2024)|BUSD|3.3|\\n| |USD/boe|7.8|\\n|OPEX (Real 2024)|BUSD|6.6|\\n| |USD/boe|15.7|\\n|NPV|BUSD|1.9|\\n| |USD/boe|4.6|\\n|Rate of Return| |68%|\\n|Profitability Index| |1.68|\\n\\nErik Wold\\n\\nRystad Energy\\n---\\n## Maps\\n\\nArea Map\\n\\nThe Liege field is located in the Western Canada Sedimentary basin in Canada. The map shows Liege (center) and neighboring fields by hydrocarbon mix.\\n\\n|Legend| | |\\n|---|---|---|\\n|Maritime boundaries|Fields and discoveries|Active licenses|\\n|Pipelines|Oil, oilgas|Blocks|\\n| |Gas/condensate| |\\n| | |Erik Wold Rystad Energy|\\n---\\nMap\\nDetailed Area Map\\nLiege (center) and neighboring fields by hydrocarbon mix\\n\\n|Legend|\\n|---|\\n|Maritime boundaries|Fields and discoveries|Active licenses|\\n|Pipelines|Oil, oil/gas|Blocks|\\n| |Gas| |\\n| |Gas/condensate| |\\n\\n|Canada|\\n|---|\\n|Picoricina|Sal3SuWesi|SphaaKJb 4|\\n|Gcmaphasc|\\n\\nErik Wold\\nRystad Energy\\n---\\n|Asset|Liege|\\n|---|---|\\n|Basin|Western Canada Sedimentary|\\n|Sub Basin|Western Canada Sedimentary|\\n|Reservoir Depositional Category|Fluvial (River)|\\n|Reservoir Rock Period|Cretaceous|\\n|Reservoir Rock Epoch|Lower Cretaceous|\\n|Reservoir Rock Category|Shaley Sandstone|\\n|Reservoir Formation Name|McMurray, CA|\\n|Source Depositional Category|Lagoon|\\n|Net Thickness SR| |\\n|Source Rock Era|Paleozoic|\\n|Source Rock Period|Upper Devonian|\\n|Hydrogen Index|530.0|\\n|Source Rock Type Category|Shale|\\n|Kerogen Type|Type II, III|\\n|Source Rock Formation Name|Duvernay Formation|\\n| |Erik Wold|\\n| |Rystad Energy|\\n---\\n## Resources and Production\\n\\nThe Liege project is an oil field that is expected to start production in 2063. Peak production for the project is expected to be reached in 2068, at 32,000 boepd. The project will then remain at plateau for 26 more years and start to decline in 2094.\\n\\nThe original resources for the project are estimated at 421 million boe with 100% liquid content. Of the original resources, 0 million boe are classified as 2P and 421 million boe are classified as contingent.\\n\\n### Remaining recoverable resources\\n\\nMillion boe\\n450\\n400\\n350\\n300\\n250\\n200\\n150\\n100\\n50\\n0\\nLiege\\nCommercial\\n\\n### Resources table\\n\\n|Million boe|Resources as of start of 2022|Resource Classification|\\n|---|---|---|\\n|Crude Oil|Original|Recoverable Resources|Produced Resources|Remaining Resources|1P|2P|Contingent|\\n|421|0|421|0|421|0|0|421|\\n|Condensate|0|0|0|0|0|0|0|\\n|NGL|0|0|0|0|0|0|0|\\n|Gas|0|0|0|0|0|0|0|\\n|Total|421|0|421|0|421|0|0|421|\\n---\\n|Year|Crude Oil|Condensate|NGL|Gas|\\n|---|---|---|---|---|\\n|2063|6.4|0.0|0.0|0.0|\\n|2064|10.1|0.0|0.0|0.0|\\n|2065|14.4|0.0|0.0|0.0|\\n|2066|20.1|0.0|0.0|0.0|\\n|2067|28.9|0.0|0.0|0.0|\\n|2068|32.0|0.0|0.0|0.0|\\n|2069|32.0|0.0|0.0|0.0|\\n|2070|32.0|0.0|0.0|0.0|\\n|2071|32.0|0.0|0.0|0.0|\\n|2072|32.0|0.0|0.0|0.0|\\n|2073|32.0|0.0|0.0|0.0|\\n|2074|32.0|0.0|0.0|0.0|\\n|2075|32.0|0.0|0.0|0.0|\\n|2076|32.0|0.0|0.0|0.0|\\n|2077|32.0|0.0|0.0|0.0|\\n|2078|32.0|0.0|0.0|0.0|\\n|2079|32.0|0.0|0.0|0.0|\\n|2080|32.0|0.0|0.0|0.0|\\n|2081|32.0|0.0|0.0|0.0|\\n|2082|32.0|0.0|0.0|0.0|\\n|2083|32.0|0.0|0.0|0.0|\\n---\\n## Cash flows and valuation\\n\\nThe Liege project is expected to generate $272 million of total revenue in the first year of production and increase to $439 million by the following year. Cumulative free cash flow will remain negative before the start-up year in 2063 at -$1.3 billion, before generating $244 million in 2064 and $326 million in 2065. The project’s development capex will total $1.3 billion prior to starting up. Total exploration costs for the project are forecasted to reach $7 million over the project's lifetime. Operational costs will average $378 million per year from 2063-2040. Unit production opex for the project is $13 per boe, and other opex is $3 per boe. Using Rystad Energy’s base case scenario, the project has an NPV of $1.8 billion from the current year. In the $40 scenario, this value drops to -$1.7 billion, while in the $70 scenario, the value increases to $1.3 billion.\\n\\n## Key Economic Metrics\\n\\n|Production Opex|Real USD/boe|13.0|\\n|---|---|---|\\n|Other Opex|Real USD/boe|2.7|\\n|Development Capex|Real USD/boe|1.5|\\n|Brownfield Capex|Real USD/boe|6.3|\\n|Fiscal Regime|RoyaltyTax| |\\n|Average Gross Tax Rate|%|2.8|\\n|Average Government Take|%|49.4|\\n|Price differential for oil compared to Brent|USD/bbl|-70.2|\\n\\nErik Wold\\nRystad Energy\\n---\\n|Year|Free Cash Flow|Government Take|Capex|Exploration Capex|Opex|Revenue|\\n|---|---|---|---|---|---|---|\\n|2060|-222|-11|233|0|0|0|\\n|2061|-490|-35|525|0|0|0|\\n|2062|-479|-60|538|0|0|0|\\n|2063|-57|-27|251|0|105|272|\\n|2064|244|-1|26|0|169|439|\\n|2065|326|42|27|0|248|643|\\n|2066|248|102|216|0|355|921|\\n|2067|365|185|284|0|524|1,358|\\n|2068|548|182|217|0|595|1,541|\\n|2069|399|349|222|0|610|1,580|\\n|2070|425|342|228|0|625|1,620|\\n|2071|434|352|233|0|641|1,660|\\n|2072|439|367|239|0|657|1,702|\\n|2073|450|376|245|0|673|1,744|\\n|2074|461|386|251|0|690|1,788|\\n|2075|472|395|257|0|707|1,832|\\n|2076|484|405|264|0|725|1,878|\\n|2077|496|415|270|0|743|1,925|\\n|2078|509|426|277|0|762|1,973|\\n|2079|521|436|284|0|781|2,023|\\n|2080|535|447|291|0|800|2,073|\\n---\\n|Cash flows and valuation|\\n|---|\\n|Realized Oil Price Scenarios|\\n|USD/bbl|\\n|400|\\n|350|\\n|300|\\n|250|\\n|200|\\n|150|\\n|100|\\n|50|\\n|0|\\n|High case|Mid case|Base case|Forward case|Low case|\\n|Erik Wold|\\n|Rystad Energy|\\n---\\n## Cash flows and valuation\\n\\n|Base Case Input|Base Case Valuation|\\n|---|---|\\n|Discount Rate|% nominal|10|Net Present Value|MUSD|1,765|\\n|Discount Date|January 1st, 2024|\\n|Remaining Liquids|Mmbbl|421|Net Present Value per|USD/boe|4.2|\\n|Remaining Gas|Mmboe|0|Remaining Barrel|\\n\\n### Net present value by different oil prices\\n\\n|Million USD|\\n|---|\\n|4,000|\\n|3,000|\\n|2,000|\\n|1,000|\\n|0|\\n|-1,000|\\n|-2,000|\\n| |30|40|50|Base Case|Forward|70|100|\\n\\n### Net present value sensitivity analysis\\n\\n|Discount Rate|\\n|---|\\n|Oil Price|(nominal)|15.0 %|12.0 %|11.0 %|10.0 %|9.0 %|8.0 %|5.0 %|\\n|(USD/bbl)|\\n|30|-1,345|-1,530|-1,600|-1,676|-1,758|-1,846|-2,155|\\n|40|-1,235|-1,456|-1,549|-1,657|-1,781|-1,926|-2,541|\\n|50|-655|-623|-601|-569|-527|-470|-157|\\n|Base Case|569|1,148|1,426|1,765|2,182|2,697|5,174|\\n|Forward|-934|-1,012|-1,038|-1,063|-1,088|-1,110|-1,140|\\n|70|339|817|1,047|1,328|1,675|2,104|4,172|\\n|100|1,223|2,128|2,563|3,096|3,754|4,574|8,576|\\n\\nErik Wold\\n\\nRystad Energy\\n---\\n## Transactions\\n\\nSince 2017 there have been 1 change to the chart below, and the transaction information ownership of the Liege project can be found in the table underneath. The specific shares traded can be seen in the Historical ownership per year.\\n\\n| |2017|2018|2019|2020|2021|2022|2023|2024|2025|\\n|---|---|---|---|---|---|---|---|---|---|\\n|Ownership|100%|90%|80%|70%|60%|50%|40%|30%|20%|10%|0%|\\n\\n|Deal date|Deal heading|Buyer|Seller|Deal value, MUSD|resources, Mmboe|\\n|---|---|---|---|---|---|\\n|2021-06-11|Waterous Energy Fund announced the amalgamation of its two portfolio companies, Strathcona Resources Ltd. and Osum Oil Sands Corp.|Strathcona Resources|Osum|16|421|\\n\\nOwnership is based on remaining resources as of 1st of January for the year. Deal date is the deal announcement date.\\n---\\n## Assumptions\\n\\n## Definitions\\n\\n|Item|Definition|\\n|---|---|\\n|Resources|Resources are the remaining expected ultimate recovery reserves (EUR). This consists of reserves plus contingent resources.|\\n|Discount date and rate|All cash flows are discounted at 10% nominal from 01.01.2022 unless otherwise stated.|\\n|Inflation rate|The base case inflation rate used in this report is 2.5%.|\\n|Breakeven|Breakeven prices are calculated using current cost levels with cost compression as discussed in the introduction. In the NPV calculations under different scenarios, we have assumed lower costs in the lower oil price scenarios due to further cost compression.|\\n|Fiscal regime|This report reflects the latest revisions of local fiscal regime. Assumes all tax paid mid year.|\\n\\n## Commodity prices\\n\\n|Year|Brent Oil Price (USD/bbl nominal)|\\n|---|---|\\n|2023|82|\\n|2024|83|\\n|2025|75|\\n|2026|74|\\n|2027|75|\\n|2028|77|\\n\\n*Oil and gas prices are inflated with 2.5% after 2026\\n\\nSource: Rystad Energy research and analysis\\n\\nErik Wold\\n\\nRystad Energy\\n---\\n|Metric|Definition|\\n|---|---|\\n|Average Government Take|Present value of the aggregate future government take divided by the sum of total future Gov. take PV and total future FCF PV. Cash flows are discounted to the current year at the 10% rate. All cash flows used in calculation are expressed in nominal terms|\\n|Average Gross Tax Rate|Five year average (since start-up year for not yet producing fields or from the current year in other cases) gross taxes (Royalty effects + Taxes opex) divided by average Revenue for the same period. All cash flows used in calculation are expressed in real terms|\\n|Breakeven Price|Breakeven Price is the flat real prices the continued operation of the assets is commercial, seen from current year, i.e. the price required for a positive NPV. Abandonment costs and Tax effects of previous investments are not included. For gas/gas-condensate fields it is the gas breakeven price, otherwise it is the oil breakeven price. For service contracts Breakevens are based on FCF+GovTake. Nominal cash flows are used in the calculations|\\n|Brownfield Capex|Total investment costs (well and facility capex) from two years after start-up. For already producing fields Brownfield Capex represents the aggregate future investments since current year. Per boe metric is based on remaining resources|\\n|Development Capex|Total investment costs (well and facility capex) from start of development to two years after start-up, expressed in real terms. Development Capex pr boe corresponds to total development cost divided by total initial resources|\\n|Half Cycle Breakeven Price|Half Cycle Breakeven Price shows the exact price at which the assets are commercial, seen from the approval date, i.e. oil price required for a positive NPV at the approval date. For gas/gas-condensate fields it is the gas breakeven price, otherwise it is the oil breakeven price. All cash flows used in calculation are expressed in nominal terms|\\n\\nSource: Rystad Energy research and analysis\\n\\nErik Wold\\n\\nRystad Energy\\n---\\n## Glossary\\n\\n|Metric|Definition|\\n|---|---|\\n|Other Opex|Aggregate future other opex (SG&A, Transportation, Abandonment) since current year, expressed in real terms, divided by total remaining asset resources|\\n|Payback Period|Payback period is a number of years since the approval year till the year when cumulative FCF becomes positive. It shows how long time it takes to recover the costs. All cash flows used in calculation are expressed in nominal terms|\\n|Price differential for oil compared to Brent|Five year average (since start-up year for not yet producing fields or from the current year in other cases) price differential between realized oil (crude oil + condensate) price and Brent|\\n|Production Opex|Aggregate future production opex since current year, expressed in real terms, divided by total remaining asset resources. Includes only the lifting cost of production.|\\n|Profitability Index|The profitability index is defined as the NPV divided by the present value of all future capex plus one|\\n|Project IRR|IRR represents a discount rate that makes an asset NPV equal to zero in UCube Base case. IRR calculation relies on the same formula as NPV does and includes all years from approval. All cash flows used in calculation are expressed in nominal terms|\\n|Realized Oil Price Scenarios|Realized oil price is defined as an average realized crude oil and condensate price. In UCube base case realized condensate price is equal to realized crude oil price|\\n\\nSource: Rystad Energy research and analysis\\n\\nErik Wold\\n\\nRystad Energy\\n---\\n## RystadEnergy\\n\\nNavigating the future of energy\\n\\nRystad Energy is an independent energy consulting services and business intelligence data firm offering global databases, strategic advisory and research products for energy companies and suppliers, investors, investment banks, organizations, and governments.\\n\\nHeadquarters: Rystad Energy, Fjordalléen 16, 0250 Oslo, Norway\\n\\nAmericas +1 (281)-231-2600\\n\\nEMEA +47 908 87 700      Erik Wold\\n\\nAsia Pacific +65 690 93 715\\n\\nEmail: support@rystadenergy.com\\n\\n© Copyright. All rights reserved.\", start_char_idx=None, end_char_idx=None, text_template='{metadata_str}\\n\\n{content}', metadata_template='{key}: {value}', metadata_seperator='\\n')]"
      ]
     },
     "execution_count": 52,
     "metadata": {},
     "output_type": "execute_result"
    }
   ],
   "source": [
    "documents"
   ]
  },
  {
   "cell_type": "code",
   "execution_count": 53,
   "metadata": {},
   "outputs": [
    {
     "data": {
      "text/plain": [
       "\"|UPSTREAM ASSET FACTSHEET|January 2024|\\n|---|---|\\n|LIEGE|Canada|\\n|Erik Wold|Rystad Energy|\\n---\\n|Contents|Page|\\n|---|---|\\n|Executive Summary|3|\\n|Map|5|\\n|Petroleum System|7|\\n|Resources and production|8|\\n|Cash flows and valuation|10|\\n|Transactions|14|\\n|Assumptions|15|\\n|Glossary|16|\\n\\nErik Wold\\n\\nRystad Energy\\n---\\n## Executive Summary\\n\\nThe Liege project is located in the Western Canada Resources, which has a 100% working interest. Sedimentary basin in Canada. The project is expected to be approved in 2058 and start production in 2063. The project is expected to reach peak production in 2068 at 32,000 boepd. The primary field, Liege, CA will be developed with onshore. Production will be exported via onshore pipeline for liquids. Original recoverable resources are estimated at 421 million boe, with 100% liquids content. According to Rystad Energy’s base case scenario, the NPV for the field is estimated at $1.8 billion. The field is operated by Strathcona\\n\\n|Recoverable economical resources|Total production|\\n|---|---|\\n|Million boe|Thousand boepd|\\n|Crude Oil|421|421|100%|\\n|Condensate| |80%|\\n|NGL| |40%|\\n|Gas| |0%|\\n\\nTotal cash flow\\n\\nMillion USD\\n2,500\\n2,000\\n1,500\\n1,000\\n500\\n0\\n-500\\n-1,000\\n\\nFree Cash Flow\\n\\nGovernment Take\\n\\nCapex\\n\\nExploration Capex\\n\\nOpex\\n\\nRevenue\\n\\nErik Wold\\n\\nRystad Energy\\n---\\n|Ownership|%|\\n|---|---|\\n|Strathcona Resources|100.0|\\n\\n|Key metrics|At approval (2058)|Remaining|\\n|---|---|---|\\n|CAPEX (Real 2024)|BUSD|3.3|\\n| |USD/boe|7.8|\\n|OPEX (Real 2024)|BUSD|6.6|\\n| |USD/boe|15.7|\\n|NPV|BUSD|1.9|\\n| |USD/boe|4.6|\\n|Rate of Return| |68%|\\n|Profitability Index| |1.68|\\n\\nErik Wold\\n\\nRystad Energy\\n---\\n## Maps\\n\\nArea Map\\n\\nThe Liege field is located in the Western Canada Sedimentary basin in Canada. The map shows Liege (center) and neighboring fields by hydrocarbon mix.\\n\\n|Legend| | |\\n|---|---|---|\\n|Maritime boundaries|Fields and discoveries|Active licenses|\\n|Pipelines|Oil, oilgas|Blocks|\\n| |Gas/condensate| |\\n| | |Erik Wold Rystad Energy|\\n---\\nMap\\nDetailed Area Map\\nLiege (center) and neighboring fields by hydrocarbon mix\\n\\n|Legend|\\n|---|\\n|Maritime boundaries|Fields and discoveries|Active licenses|\\n|Pipelines|Oil, oil/gas|Blocks|\\n| |Gas| |\\n| |Gas/condensate| |\\n\\n|Canada|\\n|---|\\n|Picoricina|Sal3SuWesi|SphaaKJb 4|\\n|Gcmaphasc|\\n\\nErik Wold\\nRystad Energy\\n---\\n|Asset|Liege|\\n|---|---|\\n|Basin|Western Canada Sedimentary|\\n|Sub Basin|Western Canada Sedimentary|\\n|Reservoir Depositional Category|Fluvial (River)|\\n|Reservoir Rock Period|Cretaceous|\\n|Reservoir Rock Epoch|Lower Cretaceous|\\n|Reservoir Rock Category|Shaley Sandstone|\\n|Reservoir Formation Name|McMurray, CA|\\n|Source Depositional Category|Lagoon|\\n|Net Thickness SR| |\\n|Source Rock Era|Paleozoic|\\n|Source Rock Period|Upper Devonian|\\n|Hydrogen Index|530.0|\\n|Source Rock Type Category|Shale|\\n|Kerogen Type|Type II, III|\\n|Source Rock Formation Name|Duvernay Formation|\\n| |Erik Wold|\\n| |Rystad Energy|\\n---\\n## Resources and Production\\n\\nThe Liege project is an oil field that is expected to start production in 2063. Peak production for the project is expected to be reached in 2068, at 32,000 boepd. The project will then remain at plateau for 26 more years and start to decline in 2094.\\n\\nThe original resources for the project are estimated at 421 million boe with 100% liquid content. Of the original resources, 0 million boe are classified as 2P and 421 million boe are classified as contingent.\\n\\n### Remaining recoverable resources\\n\\nMillion boe\\n450\\n400\\n350\\n300\\n250\\n200\\n150\\n100\\n50\\n0\\nLiege\\nCommercial\\n\\n### Resources table\\n\\n|Million boe|Resources as of start of 2022|Resource Classification|\\n|---|---|---|\\n|Crude Oil|Original|Recoverable Resources|Produced Resources|Remaining Resources|1P|2P|Contingent|\\n|421|0|421|0|421|0|0|421|\\n|Condensate|0|0|0|0|0|0|0|\\n|NGL|0|0|0|0|0|0|0|\\n|Gas|0|0|0|0|0|0|0|\\n|Total|421|0|421|0|421|0|0|421|\\n---\\n|Year|Crude Oil|Condensate|NGL|Gas|\\n|---|---|---|---|---|\\n|2063|6.4|0.0|0.0|0.0|\\n|2064|10.1|0.0|0.0|0.0|\\n|2065|14.4|0.0|0.0|0.0|\\n|2066|20.1|0.0|0.0|0.0|\\n|2067|28.9|0.0|0.0|0.0|\\n|2068|32.0|0.0|0.0|0.0|\\n|2069|32.0|0.0|0.0|0.0|\\n|2070|32.0|0.0|0.0|0.0|\\n|2071|32.0|0.0|0.0|0.0|\\n|2072|32.0|0.0|0.0|0.0|\\n|2073|32.0|0.0|0.0|0.0|\\n|2074|32.0|0.0|0.0|0.0|\\n|2075|32.0|0.0|0.0|0.0|\\n|2076|32.0|0.0|0.0|0.0|\\n|2077|32.0|0.0|0.0|0.0|\\n|2078|32.0|0.0|0.0|0.0|\\n|2079|32.0|0.0|0.0|0.0|\\n|2080|32.0|0.0|0.0|0.0|\\n|2081|32.0|0.0|0.0|0.0|\\n|2082|32.0|0.0|0.0|0.0|\\n|2083|32.0|0.0|0.0|0.0|\\n---\\n## Cash flows and valuation\\n\\nThe Liege project is expected to generate $272 million of total revenue in the first year of production and increase to $439 million by the following year. Cumulative free cash flow will remain negative before the start-up year in 2063 at -$1.3 billion, before generating $244 million in 2064 and $326 million in 2065. The project’s development capex will total $1.3 billion prior to starting up. Total exploration costs for the project are forecasted to reach $7 million over the project's lifetime. Operational costs will average $378 million per year from 2063-2040. Unit production opex for the project is $13 per boe, and other opex is $3 per boe. Using Rystad Energy’s base case scenario, the project has an NPV of $1.8 billion from the current year. In the $40 scenario, this value drops to -$1.7 billion, while in the $70 scenario, the value increases to $1.3 billion.\\n\\n## Key Economic Metrics\\n\\n|Production Opex|Real USD/boe|13.0|\\n|---|---|---|\\n|Other Opex|Real USD/boe|2.7|\\n|Development Capex|Real USD/boe|1.5|\\n|Brownfield Capex|Real USD/boe|6.3|\\n|Fiscal Regime|RoyaltyTax| |\\n|Average Gross Tax Rate|%|2.8|\\n|Average Government Take|%|49.4|\\n|Price differential for oil compared to Brent|USD/bbl|-70.2|\\n\\nErik Wold\\nRystad Energy\\n---\\n|Year|Free Cash Flow|Government Take|Capex|Exploration Capex|Opex|Revenue|\\n|---|---|---|---|---|---|---|\\n|2060|-222|-11|233|0|0|0|\\n|2061|-490|-35|525|0|0|0|\\n|2062|-479|-60|538|0|0|0|\\n|2063|-57|-27|251|0|105|272|\\n|2064|244|-1|26|0|169|439|\\n|2065|326|42|27|0|248|643|\\n|2066|248|102|216|0|355|921|\\n|2067|365|185|284|0|524|1,358|\\n|2068|548|182|217|0|595|1,541|\\n|2069|399|349|222|0|610|1,580|\\n|2070|425|342|228|0|625|1,620|\\n|2071|434|352|233|0|641|1,660|\\n|2072|439|367|239|0|657|1,702|\\n|2073|450|376|245|0|673|1,744|\\n|2074|461|386|251|0|690|1,788|\\n|2075|472|395|257|0|707|1,832|\\n|2076|484|405|264|0|725|1,878|\\n|2077|496|415|270|0|743|1,925|\\n|2078|509|426|277|0|762|1,973|\\n|2079|521|436|284|0|781|2,023|\\n|2080|535|447|291|0|800|2,073|\\n---\\n|Cash flows and valuation|\\n|---|\\n|Realized Oil Price Scenarios|\\n|USD/bbl|\\n|400|\\n|350|\\n|300|\\n|250|\\n|200|\\n|150|\\n|100|\\n|50|\\n|0|\\n|High case|Mid case|Base case|Forward case|Low case|\\n|Erik Wold|\\n|Rystad Energy|\\n---\\n## Cash flows and valuation\\n\\n|Base Case Input|Base Case Valuation|\\n|---|---|\\n|Discount Rate|% nominal|10|Net Present Value|MUSD|1,765|\\n|Discount Date|January 1st, 2024|\\n|Remaining Liquids|Mmbbl|421|Net Present Value per|USD/boe|4.2|\\n|Remaining Gas|Mmboe|0|Remaining Barrel|\\n\\n### Net present value by different oil prices\\n\\n|Million USD|\\n|---|\\n|4,000|\\n|3,000|\\n|2,000|\\n|1,000|\\n|0|\\n|-1,000|\\n|-2,000|\\n| |30|40|50|Base Case|Forward|70|100|\\n\\n### Net present value sensitivity analysis\\n\\n|Discount Rate|\\n|---|\\n|Oil Price|(nominal)|15.0 %|12.0 %|11.0 %|10.0 %|9.0 %|8.0 %|5.0 %|\\n|(USD/bbl)|\\n|30|-1,345|-1,530|-1,600|-1,676|-1,758|-1,846|-2,155|\\n|40|-1,235|-1,456|-1,549|-1,657|-1,781|-1,926|-2,541|\\n|50|-655|-623|-601|-569|-527|-470|-157|\\n|Base Case|569|1,148|1,426|1,765|2,182|2,697|5,174|\\n|Forward|-934|-1,012|-1,038|-1,063|-1,088|-1,110|-1,140|\\n|70|339|817|1,047|1,328|1,675|2,104|4,172|\\n|100|1,223|2,128|2,563|3,096|3,754|4,574|8,576|\\n\\nErik Wold\\n\\nRystad Energy\\n---\\n## Transactions\\n\\nSince 2017 there have been 1 change to the chart below, and the transaction information ownership of the Liege project can be found in the table underneath. The specific shares traded can be seen in the Historical ownership per year.\\n\\n| |2017|2018|2019|2020|2021|2022|2023|2024|2025|\\n|---|---|---|---|---|---|---|---|---|---|\\n|Ownership|100%|90%|80%|70%|60%|50%|40%|30%|20%|10%|0%|\\n\\n|Deal date|Deal heading|Buyer|Seller|Deal value, MUSD|resources, Mmboe|\\n|---|---|---|---|---|---|\\n|2021-06-11|Waterous Energy Fund announced the amalgamation of its two portfolio companies, Strathcona Resources Ltd. and Osum Oil Sands Corp.|Strathcona Resources|Osum|16|421|\\n\\nOwnership is based on remaining resources as of 1st of January for the year. Deal date is the deal announcement date.\\n---\\n## Assumptions\\n\\n## Definitions\\n\\n|Item|Definition|\\n|---|---|\\n|Resources|Resources are the remaining expected ultimate recovery reserves (EUR). This consists of reserves plus contingent resources.|\\n|Discount date and rate|All cash flows are discounted at 10% nominal from 01.01.2022 unless otherwise stated.|\\n|Inflation rate|The base case inflation rate used in this report is 2.5%.|\\n|Breakeven|Breakeven prices are calculated using current cost levels with cost compression as discussed in the introduction. In the NPV calculations under different scenarios, we have assumed lower costs in the lower oil price scenarios due to further cost compression.|\\n|Fiscal regime|This report reflects the latest revisions of local fiscal regime. Assumes all tax paid mid year.|\\n\\n## Commodity prices\\n\\n|Year|Brent Oil Price (USD/bbl nominal)|\\n|---|---|\\n|2023|82|\\n|2024|83|\\n|2025|75|\\n|2026|74|\\n|2027|75|\\n|2028|77|\\n\\n*Oil and gas prices are inflated with 2.5% after 2026\\n\\nSource: Rystad Energy research and analysis\\n\\nErik Wold\\n\\nRystad Energy\\n---\\n|Metric|Definition|\\n|---|---|\\n|Average Government Take|Present value of the aggregate future government take divided by the sum of total future Gov. take PV and total future FCF PV. Cash flows are discounted to the current year at the 10% rate. All cash flows used in calculation are expressed in nominal terms|\\n|Average Gross Tax Rate|Five year average (since start-up year for not yet producing fields or from the current year in other cases) gross taxes (Royalty effects + Taxes opex) divided by average Revenue for the same period. All cash flows used in calculation are expressed in real terms|\\n|Breakeven Price|Breakeven Price is the flat real prices the continued operation of the assets is commercial, seen from current year, i.e. the price required for a positive NPV. Abandonment costs and Tax effects of previous investments are not included. For gas/gas-condensate fields it is the gas breakeven price, otherwise it is the oil breakeven price. For service contracts Breakevens are based on FCF+GovTake. Nominal cash flows are used in the calculations|\\n|Brownfield Capex|Total investment costs (well and facility capex) from two years after start-up. For already producing fields Brownfield Capex represents the aggregate future investments since current year. Per boe metric is based on remaining resources|\\n|Development Capex|Total investment costs (well and facility capex) from start of development to two years after start-up, expressed in real terms. Development Capex pr boe corresponds to total development cost divided by total initial resources|\\n|Half Cycle Breakeven Price|Half Cycle Breakeven Price shows the exact price at which the assets are commercial, seen from the approval date, i.e. oil price required for a positive NPV at the approval date. For gas/gas-condensate fields it is the gas breakeven price, otherwise it is the oil breakeven price. All cash flows used in calculation are expressed in nominal terms|\\n\\nSource: Rystad Energy research and analysis\\n\\nErik Wold\\n\\nRystad Energy\\n---\\n## Glossary\\n\\n|Metric|Definition|\\n|---|---|\\n|Other Opex|Aggregate future other opex (SG&A, Transportation, Abandonment) since current year, expressed in real terms, divided by total remaining asset resources|\\n|Payback Period|Payback period is a number of years since the approval year till the year when cumulative FCF becomes positive. It shows how long time it takes to recover the costs. All cash flows used in calculation are expressed in nominal terms|\\n|Price differential for oil compared to Brent|Five year average (since start-up year for not yet producing fields or from the current year in other cases) price differential between realized oil (crude oil + condensate) price and Brent|\\n|Production Opex|Aggregate future production opex since current year, expressed in real terms, divided by total remaining asset resources. Includes only the lifting cost of production.|\\n|Profitability Index|The profitability index is defined as the NPV divided by the present value of all future capex plus one|\\n|Project IRR|IRR represents a discount rate that makes an asset NPV equal to zero in UCube Base case. IRR calculation relies on the same formula as NPV does and includes all years from approval. All cash flows used in calculation are expressed in nominal terms|\\n|Realized Oil Price Scenarios|Realized oil price is defined as an average realized crude oil and condensate price. In UCube base case realized condensate price is equal to realized crude oil price|\\n\\nSource: Rystad Energy research and analysis\\n\\nErik Wold\\n\\nRystad Energy\\n---\\n## RystadEnergy\\n\\nNavigating the future of energy\\n\\nRystad Energy is an independent energy consulting services and business intelligence data firm offering global databases, strategic advisory and research products for energy companies and suppliers, investors, investment banks, organizations, and governments.\\n\\nHeadquarters: Rystad Energy, Fjordalléen 16, 0250 Oslo, Norway\\n\\nAmericas +1 (281)-231-2600\\n\\nEMEA +47 908 87 700      Erik Wold\\n\\nAsia Pacific +65 690 93 715\\n\\nEmail: support@rystadenergy.com\\n\\n© Copyright. All rights reserved.\""
      ]
     },
     "execution_count": 53,
     "metadata": {},
     "output_type": "execute_result"
    }
   ],
   "source": [
    "documents[0].text"
   ]
  },
  {
   "cell_type": "code",
   "execution_count": null,
   "metadata": {},
   "outputs": [],
   "source": [
    "from llama_index.vector_stores.chroma import ChromaVectorStore\n",
    "import chromadb\n",
    "from llama_index.embeddings.huggingface import HuggingFaceEmbedding\n",
    "from llama_index.core import VectorStoreIndex, SimpleDirectoryReader\n",
    "\n",
    "chroma_client = chromadb.EphemeralClient()\n",
    "chroma_collection = chroma_client.create_collection(\"test2\")\n",
    "\n",
    "# define embedding function\n",
    "embed_model = HuggingFaceEmbedding(model_name=\"BAAI/bge-base-en-v1.5\")\n",
    "\n",
    "# set up ChromaVectorStore and load in data\n",
    "vector_store = ChromaVectorStore(chroma_collection=chroma_collection)"
   ]
  },
  {
   "cell_type": "code",
   "execution_count": null,
   "metadata": {},
   "outputs": [],
   "source": [
    "from llama_index.core import Settings\n",
    "import os\n",
    "from llama_index.llms.gemini import Gemini\n",
    "\n",
    "GEMINI_API_KEY = os.getenv(\"GOOGLE_API_KEY\")\n",
    "llm = Gemini(api_key=GEMINI_API_KEY)\n",
    "Settings.llm = llm"
   ]
  },
  {
   "cell_type": "code",
   "execution_count": null,
   "metadata": {},
   "outputs": [],
   "source": [
    "from llama_index.core import StorageContext\n",
    "storage_context = StorageContext.from_defaults(vector_store=vector_store)\n",
    "index = VectorStoreIndex.from_documents(\n",
    "    documents, storage_context=storage_context, embed_model=embed_model\n",
    ")\n",
    "\n",
    "# Query Data\n",
    "query_engine = index.as_query_engine()"
   ]
  },
  {
   "cell_type": "code",
   "execution_count": 55,
   "metadata": {},
   "outputs": [
    {
     "data": {
      "text/plain": [
       "'<b>|Year|Revenue|\\n|---|---|\\n|2060|0|\\n|2061|0|\\n|2062|0|\\n|2063|272|\\n|2064|439|\\n|2065|643|\\n|2066|921|\\n|2067|1,358|\\n|2068|1,541|\\n|2069|1,580|\\n|2070|1,620|\\n|2071|1,660|\\n|2072|1,702|\\n|2073|1,744|\\n|2074|1,788|\\n|2075|1,832|\\n|Total|12,118|</b>'"
      ]
     },
     "metadata": {},
     "output_type": "display_data"
    }
   ],
   "source": [
    "response = query_engine.query(\"first list the revenue of each year 2060 to 2075, and total of Economics Million USD revenue at 2060 to 2075?\")\n",
    "display((f\"<b>{response}</b>\"))"
   ]
  },
  {
   "cell_type": "code",
   "execution_count": 56,
   "metadata": {},
   "outputs": [
    {
     "data": {
      "text/plain": [
       "'<b>The provided context does not contain information about project revenue for Economics Million USD revenue at 2100.</b>'"
      ]
     },
     "metadata": {},
     "output_type": "display_data"
    }
   ],
   "source": [
    "response = query_engine.query(\"what is project revenue for Economics Million USD revenue at 2100?\")\n",
    "display((f\"<b>{response}</b>\"))"
   ]
  },
  {
   "cell_type": "code",
   "execution_count": null,
   "metadata": {},
   "outputs": [],
   "source": [
    "18+17+17+17+16+16+15+15+13+9+6+4+2"
   ]
  }
 ],
 "metadata": {
  "kernelspec": {
   "display_name": "venv",
   "language": "python",
   "name": "python3"
  },
  "language_info": {
   "codemirror_mode": {
    "name": "ipython",
    "version": 3
   },
   "file_extension": ".py",
   "mimetype": "text/x-python",
   "name": "python",
   "nbconvert_exporter": "python",
   "pygments_lexer": "ipython3",
   "version": "3.11.7"
  }
 },
 "nbformat": 4,
 "nbformat_minor": 2
}
