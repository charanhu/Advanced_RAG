{
 "cells": [
  {
   "cell_type": "code",
   "execution_count": 2,
   "metadata": {},
   "outputs": [
    {
     "data": {
      "text/html": [
       "<div>\n",
       "<style scoped>\n",
       "    .dataframe tbody tr th:only-of-type {\n",
       "        vertical-align: middle;\n",
       "    }\n",
       "\n",
       "    .dataframe tbody tr th {\n",
       "        vertical-align: top;\n",
       "    }\n",
       "\n",
       "    .dataframe thead th {\n",
       "        text-align: right;\n",
       "    }\n",
       "</style>\n",
       "<table border=\"1\" class=\"dataframe\">\n",
       "  <thead>\n",
       "    <tr style=\"text-align: right;\">\n",
       "      <th></th>\n",
       "      <th>input</th>\n",
       "      <th>output</th>\n",
       "    </tr>\n",
       "  </thead>\n",
       "  <tbody>\n",
       "    <tr>\n",
       "      <th>0</th>\n",
       "      <td>ಆರೋಗ್ಯವಾಗಿರಲು ಮೂರು ಸಲಹೆಗಳನ್ನು ನೀಡಿ.</td>\n",
       "      <td>1.Eat ಸಮತೋಲಿತ ಆಹಾರ ಮತ್ತು ಸಾಕಷ್ಟು ಹಣ್ಣುಗಳು ಮತ್ತ...</td>\n",
       "    </tr>\n",
       "    <tr>\n",
       "      <th>1</th>\n",
       "      <td>ಮೂರು ಪ್ರಾಥಮಿಕ ಬಣ್ಣಗಳು ಯಾವುವು?</td>\n",
       "      <td>ಮೂರು ಪ್ರಾಥಮಿಕ ಬಣ್ಣಗಳು ಕೆಂಪು, ನೀಲಿ ಮತ್ತು ಹಳದಿ.</td>\n",
       "    </tr>\n",
       "    <tr>\n",
       "      <th>2</th>\n",
       "      <td>ಪರಮಾಣುವಿನ ರಚನೆಯನ್ನು ವಿವರಿಸಿ.</td>\n",
       "      <td>ಪರಮಾಣು ಪ್ರೋಟಾನ್ಗಳು ಮತ್ತು ನ್ಯೂಟ್ರಾನ್ಗಳನ್ನು ಹೊಂದ...</td>\n",
       "    </tr>\n",
       "    <tr>\n",
       "      <th>3</th>\n",
       "      <td>ವಾಯು ಮಾಲಿನ್ಯವನ್ನು ನಾವು ಹೇಗೆ ಕಡಿಮೆ ಮಾಡಬಹುದು?</td>\n",
       "      <td>ವಾಯುಮಾಲಿನ್ಯವನ್ನು ಕಡಿಮೆ ಮಾಡಲು ಹಲವಾರು ಮಾರ್ಗಗಳಿವೆ...</td>\n",
       "    </tr>\n",
       "    <tr>\n",
       "      <th>4</th>\n",
       "      <td>ನೀವು ಕಠಿಣ ನಿರ್ಧಾರವನ್ನು ತೆಗೆದುಕೊಳ್ಳಬೇಕಾದ ಸಮಯವನ್...</td>\n",
       "      <td>ನಿರ್ಮಾಣ ಕಂಪನಿಯೊಂದರಲ್ಲಿ ಯೋಜನಾ ವ್ಯವಸ್ಥಾಪಕರಾಗಿ ಕೆ...</td>\n",
       "    </tr>\n",
       "  </tbody>\n",
       "</table>\n",
       "</div>"
      ],
      "text/plain": [
       "                                               input  \\\n",
       "0                ಆರೋಗ್ಯವಾಗಿರಲು ಮೂರು ಸಲಹೆಗಳನ್ನು ನೀಡಿ.   \n",
       "1                      ಮೂರು ಪ್ರಾಥಮಿಕ ಬಣ್ಣಗಳು ಯಾವುವು?   \n",
       "2                       ಪರಮಾಣುವಿನ ರಚನೆಯನ್ನು ವಿವರಿಸಿ.   \n",
       "3        ವಾಯು ಮಾಲಿನ್ಯವನ್ನು ನಾವು ಹೇಗೆ ಕಡಿಮೆ ಮಾಡಬಹುದು?   \n",
       "4  ನೀವು ಕಠಿಣ ನಿರ್ಧಾರವನ್ನು ತೆಗೆದುಕೊಳ್ಳಬೇಕಾದ ಸಮಯವನ್...   \n",
       "\n",
       "                                              output  \n",
       "0  1.Eat ಸಮತೋಲಿತ ಆಹಾರ ಮತ್ತು ಸಾಕಷ್ಟು ಹಣ್ಣುಗಳು ಮತ್ತ...  \n",
       "1      ಮೂರು ಪ್ರಾಥಮಿಕ ಬಣ್ಣಗಳು ಕೆಂಪು, ನೀಲಿ ಮತ್ತು ಹಳದಿ.  \n",
       "2  ಪರಮಾಣು ಪ್ರೋಟಾನ್ಗಳು ಮತ್ತು ನ್ಯೂಟ್ರಾನ್ಗಳನ್ನು ಹೊಂದ...  \n",
       "3  ವಾಯುಮಾಲಿನ್ಯವನ್ನು ಕಡಿಮೆ ಮಾಡಲು ಹಲವಾರು ಮಾರ್ಗಗಳಿವೆ...  \n",
       "4  ನಿರ್ಮಾಣ ಕಂಪನಿಯೊಂದರಲ್ಲಿ ಯೋಜನಾ ವ್ಯವಸ್ಥಾಪಕರಾಗಿ ಕೆ...  "
      ]
     },
     "execution_count": 2,
     "metadata": {},
     "output_type": "execute_result"
    }
   ],
   "source": [
    "# creating llm fine-tuning dataset\n",
    "\n",
    "import pandas as pd\n",
    "\n",
    "\n",
    "df = pd.read_csv('data.csv')\n",
    "df.head()"
   ]
  },
  {
   "cell_type": "code",
   "execution_count": 3,
   "metadata": {},
   "outputs": [],
   "source": [
    "text_col=[]\n",
    "for _, row in df.iterrows():\n",
    "    prompt=\"Bellow is an instruction that describes a task, paired with an input that provides further context. Write a response that appropriately completes the task. \\n\\n\"\n",
    "    input_query = row['input']\n",
    "    response = row['output']\n",
    "\n",
    "    text = prompt + \"\\n### Input:\\n\" + input_query + \"\\n### Response:\\n\" + response\n",
    "\n",
    "    text_col.append(text)"
   ]
  },
  {
   "cell_type": "code",
   "execution_count": 4,
   "metadata": {},
   "outputs": [
    {
     "name": "stdout",
     "output_type": "stream",
     "text": [
      "                                               input  \\\n",
      "0                ಆರೋಗ್ಯವಾಗಿರಲು ಮೂರು ಸಲಹೆಗಳನ್ನು ನೀಡಿ.   \n",
      "1                      ಮೂರು ಪ್ರಾಥಮಿಕ ಬಣ್ಣಗಳು ಯಾವುವು?   \n",
      "2                       ಪರಮಾಣುವಿನ ರಚನೆಯನ್ನು ವಿವರಿಸಿ.   \n",
      "3        ವಾಯು ಮಾಲಿನ್ಯವನ್ನು ನಾವು ಹೇಗೆ ಕಡಿಮೆ ಮಾಡಬಹುದು?   \n",
      "4  ನೀವು ಕಠಿಣ ನಿರ್ಧಾರವನ್ನು ತೆಗೆದುಕೊಳ್ಳಬೇಕಾದ ಸಮಯವನ್...   \n",
      "\n",
      "                                              output  \\\n",
      "0  1.Eat ಸಮತೋಲಿತ ಆಹಾರ ಮತ್ತು ಸಾಕಷ್ಟು ಹಣ್ಣುಗಳು ಮತ್ತ...   \n",
      "1      ಮೂರು ಪ್ರಾಥಮಿಕ ಬಣ್ಣಗಳು ಕೆಂಪು, ನೀಲಿ ಮತ್ತು ಹಳದಿ.   \n",
      "2  ಪರಮಾಣು ಪ್ರೋಟಾನ್ಗಳು ಮತ್ತು ನ್ಯೂಟ್ರಾನ್ಗಳನ್ನು ಹೊಂದ...   \n",
      "3  ವಾಯುಮಾಲಿನ್ಯವನ್ನು ಕಡಿಮೆ ಮಾಡಲು ಹಲವಾರು ಮಾರ್ಗಗಳಿವೆ...   \n",
      "4  ನಿರ್ಮಾಣ ಕಂಪನಿಯೊಂದರಲ್ಲಿ ಯೋಜನಾ ವ್ಯವಸ್ಥಾಪಕರಾಗಿ ಕೆ...   \n",
      "\n",
      "                                                text  \n",
      "0  Bellow is an instruction that describes a task...  \n",
      "1  Bellow is an instruction that describes a task...  \n",
      "2  Bellow is an instruction that describes a task...  \n",
      "3  Bellow is an instruction that describes a task...  \n",
      "4  Bellow is an instruction that describes a task...  \n"
     ]
    }
   ],
   "source": [
    "df.loc[:, 'text'] = text_col\n",
    "print(df.head())"
   ]
  },
  {
   "cell_type": "code",
   "execution_count": 5,
   "metadata": {},
   "outputs": [],
   "source": [
    "df.to_csv('llm_fine_tuning.csv', index=False)"
   ]
  },
  {
   "cell_type": "code",
   "execution_count": null,
   "metadata": {},
   "outputs": [],
   "source": []
  }
 ],
 "metadata": {
  "kernelspec": {
   "display_name": "venv",
   "language": "python",
   "name": "python3"
  },
  "language_info": {
   "codemirror_mode": {
    "name": "ipython",
    "version": 3
   },
   "file_extension": ".py",
   "mimetype": "text/x-python",
   "name": "python",
   "nbconvert_exporter": "python",
   "pygments_lexer": "ipython3",
   "version": "3.11.7"
  }
 },
 "nbformat": 4,
 "nbformat_minor": 2
}
