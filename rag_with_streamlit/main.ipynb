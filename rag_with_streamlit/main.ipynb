{
 "cells": [
  {
   "cell_type": "code",
   "execution_count": 1,
   "metadata": {},
   "outputs": [
    {
     "name": "stderr",
     "output_type": "stream",
     "text": [
      "/Users/charan/VS_Code/GitHub/Advanced_RAG/venv/lib/python3.11/site-packages/tqdm/auto.py:21: TqdmWarning: IProgress not found. Please update jupyter and ipywidgets. See https://ipywidgets.readthedocs.io/en/stable/user_install.html\n",
      "  from .autonotebook import tqdm as notebook_tqdm\n"
     ]
    },
    {
     "data": {
      "text/plain": [
       "'The provided context does not have information on the generation latency of BlackMamba compared to dense transformers, dense mamba, and transformer-MoE. So I cannot answer this question.'"
      ]
     },
     "execution_count": 1,
     "metadata": {},
     "output_type": "execute_result"
    }
   ],
   "source": [
    "import bs4\n",
    "from langchain import hub\n",
    "from langchain.text_splitter import RecursiveCharacterTextSplitter\n",
    "from langchain_community.vectorstores import Chroma\n",
    "from langchain_core.output_parsers import StrOutputParser\n",
    "from langchain_core.runnables import RunnablePassthrough\n",
    "from langchain_google_genai import GoogleGenerativeAIEmbeddings, ChatGoogleGenerativeAI\n",
    "from langchain_community.embeddings import HuggingFaceBgeEmbeddings\n",
    "from langchain_community.document_loaders import PyPDFLoader\n",
    "import os\n",
    "\n",
    "google_api_key = os.getenv(\"GOOGLE_API_KEY\")\n",
    "\n",
    "llm = ChatGoogleGenerativeAI(model=\"gemini-pro\", google_api_key=google_api_key)\n",
    "\n",
    "# Load, chunk and index the contents of the blog.\n",
    "loader = PyPDFLoader(\"test.pdf\")\n",
    "docs = loader.load()\n",
    "\n",
    "text_splitter = RecursiveCharacterTextSplitter(chunk_size=512, chunk_overlap=100)\n",
    "splits = text_splitter.split_documents(docs)\n",
    "vectorstore = Chroma.from_documents(documents=splits, embedding=HuggingFaceBgeEmbeddings())\n",
    "\n",
    "# Retrieve and generate using the relevant snippets of the blog.\n",
    "retriever = vectorstore.as_retriever()\n",
    "prompt = hub.pull(\"rlm/rag-prompt\")\n",
    "\n",
    "\n",
    "def format_docs(docs):\n",
    "    return \"\\n\\n\".join(doc.page_content for doc in docs)\n",
    "\n",
    "\n",
    "rag_chain = (\n",
    "    {\"context\": retriever | format_docs, \"question\": RunnablePassthrough()}\n",
    "    | prompt\n",
    "    | llm\n",
    "    | StrOutputParser()\n",
    ")\n",
    "\n",
    "rag_chain.invoke(\"Generation latency of BlackMamba compared to dense transformers,dense mamba, and transformer-MoE\")"
   ]
  },
  {
   "cell_type": "code",
   "execution_count": 2,
   "metadata": {},
   "outputs": [
    {
     "data": {
      "text/plain": [
       "'I apologize, but the provided context does not contain information about the abstraction, so I cannot summarize it.'"
      ]
     },
     "execution_count": 2,
     "metadata": {},
     "output_type": "execute_result"
    }
   ],
   "source": [
    "rag_chain.invoke(\"Summarize the abstraction\")"
   ]
  },
  {
   "cell_type": "code",
   "execution_count": 2,
   "metadata": {},
   "outputs": [
    {
     "name": "stdout",
     "output_type": "stream",
     "text": [
      "Element not found\n"
     ]
    }
   ],
   "source": [
    "# python code for binary search\n",
    "def binary_search():\n",
    "    # list of elements to be searched\n",
    "    list = [1, 2, 3, 4, 5, 6, 7, 8, 9, 10]\n",
    "    # element to be searched\n",
    "    n = 1\n",
    "    # function call\n",
    "    if binary_search_recursive(list, 0, len(list) - 1, n):\n",
    "        print(\"Element found\")\n",
    "    else:\n",
    "        print(\"Element not found\")\n",
    "\n",
    "\n",
    "# function for binary search\n",
    "def binary_search_recursive(list, low, high, n):\n",
    "    # check if low is less than high\n",
    "    if low < high:\n",
    "        # find the middle index\n",
    "        mid = (low + high) // 2\n",
    "        # compare mid with given number n\n",
    "        if list[mid] < n:\n",
    "            # if mid is less than n then search in right half\n",
    "            return binary_search_recursive(list, mid + 1, high, n)\n",
    "        # if mid is greater than n then search in left half\n",
    "        elif list[mid] > n:\n",
    "            return binary_search_recursive(list, low, mid - 1, n)\n",
    "        else:\n",
    "            # if list[mid] is equal to n then return mid\n",
    "            return mid\n",
    "    else:\n",
    "        # element is not present in the list\n",
    "        return False\n",
    "\n",
    "\n",
    "# function call\n",
    "binary_search()"
   ]
  },
  {
   "cell_type": "code",
   "execution_count": null,
   "metadata": {},
   "outputs": [],
   "source": []
  }
 ],
 "metadata": {
  "kernelspec": {
   "display_name": "venv",
   "language": "python",
   "name": "python3"
  },
  "language_info": {
   "codemirror_mode": {
    "name": "ipython",
    "version": 3
   },
   "file_extension": ".py",
   "mimetype": "text/x-python",
   "name": "python",
   "nbconvert_exporter": "python",
   "pygments_lexer": "ipython3",
   "version": "3.11.7"
  }
 },
 "nbformat": 4,
 "nbformat_minor": 2
}
